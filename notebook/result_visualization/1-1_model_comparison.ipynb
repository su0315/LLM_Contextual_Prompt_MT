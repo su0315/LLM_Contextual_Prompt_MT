{
 "cells": [
  {
   "cell_type": "code",
   "execution_count": 1,
   "id": "01ce641c",
   "metadata": {},
   "outputs": [],
   "source": [
    "import numpy as np\n",
    "import matplotlib.pyplot as plt\n",
    "import os"
   ]
  },
  {
   "cell_type": "code",
   "execution_count": 2,
   "id": "cb69be89",
   "metadata": {},
   "outputs": [],
   "source": [
    "# XGLM 1-1\n",
    "\n",
    "def get_score(context_size, model):\n",
    "    disk_dir = \"/mnt/data-poseidon/sumire/thesis\"\n",
    "    #xglm_path = f'/1-1/en-{lang}/xglm-{lang}-1-1/test_score.txt'\n",
    "    #llama_path = f'/1-1/en-{lang}/llama-{lang}-1-1/test_score.txt'\n",
    "\n",
    "    lang_list = os.listdir(disk_dir + f\"/{context_size}_withoutContext\")\n",
    "    for id, lang in enumerate(lang_list):\n",
    "        lang_list[id] = lang_list[id].replace(\"en-\", \"\")\n",
    "\n",
    "    lang_scores = {}\n",
    "\n",
    "    #for model_path in [xglm_path, llama_path]:\n",
    "    for lang in lang_list:\n",
    "        score_path = disk_dir+f'/1-1_withoutContext/en-{lang}/{model}-{lang}-1-1/test_score.txt'\n",
    "        if os.path.exists(score_path):\n",
    "            with open(score_path,'r') as wf:\n",
    "                lang_scores[lang] = wf.readlines()\n",
    "                \n",
    "        else:    \n",
    "            lang_scores[lang] = [\"bleu: 0\", \"comet: 0\", \"gen_len: 0\"]\n",
    "       \n",
    "    #print (lang_scores) #str.replace(\"\\n\", \"\")\n",
    "\n",
    "    # Sample data: replace this with your actual data\n",
    "    bleu_list = []\n",
    "    comet_list = []\n",
    "    for score_list in lang_scores.values():\n",
    "        bleu = score_list[0]\n",
    "        bleu = bleu.replace(\"bleu: \", \"\")\n",
    "        bleu = bleu.replace(\"\\n\", \"\")\n",
    "        bleu = float(bleu)\n",
    "        \n",
    "        comet = score_list[1]\n",
    "        comet = comet.replace(\"comet: \", \"\")\n",
    "        comet = comet.replace(\"\\n\", \"\")\n",
    "        comet = float(comet)\n",
    "        bleu_list.append(bleu)\n",
    "        comet_list.append(comet)\n",
    "    return comet_list, bleu_list, lang_list\n"
   ]
  },
  {
   "cell_type": "code",
   "execution_count": 3,
   "id": "25416e0f",
   "metadata": {},
   "outputs": [
    {
     "name": "stdout",
     "output_type": "stream",
     "text": [
      "XGLM ['ar', 'fr', 'ja', 'ko', 'de', 'zh']\n",
      "COMET:  [0.7372127388535029, 0.7038936406995242, 0.7426741935483873, 0.0, 0.6694324414715717, 0.0]\n",
      "BLEU:  [5.651536942675163, 21.403758982511935, 7.281261290322582, 0.0, 14.72452173913043, 0.0]\n",
      "\n",
      "Llama ['ar', 'fr', 'ja', 'ko', 'de', 'zh']\n",
      "COMET [0.49844554140127395, 0.6346114467408586, 0.5627393548387098, 0.40855275080906184, 0.46313478260869567, 0.616935143769969]\n",
      "BLEU [1.5516745222929929, 21.1876252782194, 2.6498822580645176, 0.5104909385113273, 8.088846488294314, 0.5290345047923323]\n",
      "\n",
      "mBART ['ar', 'fr', 'ja', 'ko', 'de', 'zh']\n",
      "COMET [0.8127000000000001, 0.8129875000000002, 0.809051282051282, 0.8370820512820513, 0.8154763157894738, 0.8054731629392973]\n",
      "BLEU [13.646044999999996, 34.35230000000001, 12.974720512820518, 7.652843589743591, 28.694407894736838, 4.177808626198084]\n",
      "\n",
      "Llama with MeCab-ko BLEU tokenizer ['ar', 'fr', 'ja', 'ko', 'de', 'zh']\n",
      "COMET [0.0, 0.0, 0.0, 0.42161197411003254, 0.0, 0.0]\n",
      "BLEU [0.0, 0.0, 0.0, 0.837695792880259, 0.0, 0.0]\n",
      "\n",
      "XGLM with MeCab-ko BLEU tokenizer ['ar', 'fr', 'ja', 'ko', 'de', 'zh']\n",
      "COMET [0.0, 0.0, 0.0, 0.7196388349514563, 0.0, 0.0]\n",
      "BLEU [0.0, 0.0, 0.0, 8.813881553398058, 0.0, 0.0]\n",
      "\n",
      "mBART with MeCab-ko BLEU tokenizer ['ar', 'fr', 'ja', 'ko', 'de', 'zh']\n",
      "COMET [0.0, 0.0, 0.0, 0.8370820512820513, 0.0, 0.0]\n",
      "BLEU [0.0, 0.0, 0.0, 19.201128205128203, 0.0, 0.0]\n",
      "\n",
      "XGLM with zh 13a BLEU tokenizer ['ar', 'fr', 'ja', 'ko', 'de', 'zh']\n",
      "COMET [0.0, 0.0, 0.0, 0.0, 0.0, 0.7457514376996807]\n",
      "BLEU [0.0, 0.0, 0.0, 0.0, 0.0, 16.09243466453673]\n",
      "\n",
      "mBART with zh 13a BLEU tokenizer ['ar', 'fr', 'ja', 'ko', 'de', 'zh']\n",
      "COMET [0.0, 0.0, 0.0, 0.0, 0.0, 0.8054731629392973]\n",
      "BLEU [0.0, 0.0, 0.0, 0.0, 0.0, 22.59986070287539]\n",
      "mBART with zh 13a BLEU tokenizer ['ar', 'fr', 'ja', 'ko', 'de', 'zh']\n",
      "COMET [0.0, 0.0, 0.0, 0.0, 0.0, 0.6262217426059161]\n",
      "BLEU [0.0, 0.0, 0.0, 0.0, 0.0, 11.798203037569937]\n",
      "\n",
      "Llama with ar sentencepiece BLEU tokenizer ['ar', 'fr', 'ja', 'ko', 'de', 'zh']\n",
      "COMET [0.49616656050955443, 0.0, 0.0, 0.0, 0.0, 0.0]\n",
      "BLEU [1.6762554140127386, 0.0, 0.0, 0.0, 0.0, 0.0]\n",
      "\n",
      "XGLM with ar sentencepiece BLEU tokenizer ['ar', 'fr', 'ja', 'ko', 'de', 'zh']\n",
      "COMET [0.7372127388535029, 0.0, 0.0, 0.0, 0.0, 0.0]\n",
      "BLEU [9.58069426751592, 0.0, 0.0, 0.0, 0.0, 0.0]\n"
     ]
    }
   ],
   "source": [
    "xglm_comet_list, xglm_bleu_list, lang_list = get_score(\"1-1\",\"xglm\")\n",
    "print (\"XGLM\", lang_list)\n",
    "print (\"COMET: \", xglm_comet_list)\n",
    "print (\"BLEU: \", xglm_bleu_list)\n",
    "print ()\n",
    "llama_comet_list, llama_bleu_list, lang_list = get_score(\"1-1\",\"llama\")\n",
    "print (\"Llama\", lang_list)\n",
    "print (\"COMET\", llama_comet_list)\n",
    "print (\"BLEU\", llama_bleu_list)\n",
    "print ()\n",
    "mbart_comet_list, mbart_bleu_list, lang_list = get_score(\"1-1\",\"mbart\")\n",
    "print (\"mBART\", lang_list)\n",
    "print (\"COMET\", mbart_comet_list)\n",
    "print (\"BLEU\", mbart_bleu_list)\n",
    "print ()\n",
    "llama_mecabko_comet_list, llama_mecabko_bleu_list, lang_list = get_score(\"1-1\",\"llama-mecabko\")\n",
    "print (\"Llama with MeCab-ko BLEU tokenizer\", lang_list)\n",
    "print (\"COMET\", llama_mecabko_comet_list)\n",
    "print (\"BLEU\", llama_mecabko_bleu_list)\n",
    "print ()\n",
    "\n",
    "xglm_mecabko_comet_list, xglm_mecabko_bleu_list, lang_list = get_score(\"1-1\",\"xglm-mecabko\")\n",
    "print (\"XGLM with MeCab-ko BLEU tokenizer\", lang_list)\n",
    "print (\"COMET\", xglm_mecabko_comet_list)\n",
    "print (\"BLEU\", xglm_mecabko_bleu_list)\n",
    "print ()\n",
    "\n",
    "mbart_mecabko_comet_list, mbart_mecabko_bleu_list, lang_list = get_score(\"1-1\",\"mbart-mecabko\")\n",
    "print (\"mBART with MeCab-ko BLEU tokenizer\", lang_list)\n",
    "print (\"COMET\", mbart_mecabko_comet_list)\n",
    "print (\"BLEU\", mbart_mecabko_bleu_list)\n",
    "print ()\n",
    "\n",
    "xglm_13a_comet_list, xglm_13a_bleu_list, lang_list = get_score(\"1-1\",\"xglm-13a\")\n",
    "print (\"XGLM with zh 13a BLEU tokenizer\", lang_list)\n",
    "print (\"COMET\", xglm_13a_comet_list)\n",
    "print (\"BLEU\", xglm_13a_bleu_list)\n",
    "print ()\n",
    "\n",
    "mbart_13a_comet_list, mbart_13a_bleu_list, lang_list = get_score(\"1-1\",\"mbart-13a\")\n",
    "print (\"mBART with zh 13a BLEU tokenizer\", lang_list)\n",
    "print (\"COMET\", mbart_13a_comet_list)\n",
    "print (\"BLEU\", mbart_13a_bleu_list)\n",
    "\n",
    "llama_13a_comet_list, llama_13a_bleu_list, lang_list = get_score(\"1-1\",\"llama-13a\")\n",
    "print (\"mBART with zh 13a BLEU tokenizer\", lang_list)\n",
    "print (\"COMET\", llama_13a_comet_list)\n",
    "print (\"BLEU\", llama_13a_bleu_list)\n",
    "print ()\n",
    "llama_sp_comet_list, llama_sp_bleu_list, lang_list = get_score(\"1-1\",\"llama-sp\")\n",
    "print (\"Llama with ar sentencepiece BLEU tokenizer\", lang_list)\n",
    "print (\"COMET\", llama_sp_comet_list)\n",
    "print (\"BLEU\", llama_sp_bleu_list)\n",
    "print ()\n",
    "xglm_sp_comet_list, xglm_sp_bleu_list, lang_list = get_score(\"1-1\",\"xglm-sp\")\n",
    "print (\"XGLM with ar sentencepiece BLEU tokenizer\", lang_list)\n",
    "print (\"COMET\", xglm_sp_comet_list)\n",
    "print (\"BLEU\", xglm_sp_bleu_list)"
   ]
  },
  {
   "cell_type": "code",
   "execution_count": 4,
   "id": "bc33c0c6",
   "metadata": {
    "scrolled": false
   },
   "outputs": [
    {
     "data": {
      "image/png": "[encoded data removed]",
      "text/plain": [
       "<Figure size 720x432 with 1 Axes>"
      ]
     },
     "metadata": {
      "needs_background": "light"
     },
     "output_type": "display_data"
    }
   ],
   "source": [
    "# Generating positions for the bars\n",
    "x = np.arange(len(lang_list))  # The label locations\n",
    "width = 0.1  # The width of the bars\n",
    "\n",
    "# Creating the plot\n",
    "fig, ax = plt.subplots(figsize=(10, len(lang_list)))\n",
    "rects1 = ax.bar(x - width*1.5, xglm_comet_list, width, label='XGLM (k=4)')\n",
    "rects2 = ax.bar(x -width*0.5, xglm_mecabko_comet_list, width, label='XGLM(MecabKo)')\n",
    "rects3 = ax.bar(x, xglm_13a_comet_list, width, label='XGLM(13a)')\n",
    "rects4 = ax.bar(x + width*0.5, llama_comet_list, width, label='LLAMA (k=4)')\n",
    "rects5 = ax.bar(x +width*1.5, mbart_comet_list, width, label='mBART')\n",
    "# mBART ko/zh tokenizer models\n",
    "\n",
    "# Adding labels and title\n",
    "ax.set_xlabel('Languages')\n",
    "ax.set_ylabel('Scores')\n",
    "ax.set_title('COMET Score for Different Languages')\n",
    "ax.set_xticks(x)\n",
    "ax.set_xticklabels(lang_list)\n",
    "ax.legend()\n",
    "\n",
    "# Adjust the x-axis limits for better visualization\n",
    "ax.set_xlim(-0.5, len(lang_list) - 0.5)\n",
    "\n",
    "# Displaying the plot\n",
    "plt.tight_layout()\n",
    "plt.show()\n"
   ]
  },
  {
   "cell_type": "code",
   "execution_count": 7,
   "id": "509ffa95",
   "metadata": {
    "scrolled": false
   },
   "outputs": [
    {
     "data": {
      "image/png": "[encoded data removed]",
      "text/plain": [
       "<Figure size 720x432 with 1 Axes>"
      ]
     },
     "metadata": {
      "needs_background": "light"
     },
     "output_type": "display_data"
    }
   ],
   "source": [
    "# Generating positions for the bars\n",
    "x = np.arange(len(lang_list))  # The label locations\n",
    "width = 0.07  # The width of the bars\n",
    "\n",
    "# Creating the plot\n",
    "# Creating the plot\n",
    "fig, ax = plt.subplots(figsize=(10, len(lang_list)))\n",
    "rects1 = ax.bar(x - width*4.5, xglm_bleu_list, width, label='XGLM (k=4)')\n",
    "rects2 = ax.bar(x-width*3.5, llama_bleu_list, width, label='LLAMA (k=4)')\n",
    "rects3 = ax.bar(x-width*2.5 , mbart_bleu_list, width, label='mBART')\n",
    "\n",
    "rects4 = ax.bar(x -width*1.5, llama_mecabko_bleu_list, width, label='Llama-MecabKo')\n",
    "rects5 = ax.bar(x -width*0.5, xglm_mecabko_bleu_list, width, label='XGLM-MecabKo')\n",
    "rects6 = ax.bar(x , mbart_mecabko_bleu_list, width, label='mbart-MecabKo')\n",
    "\n",
    "rects7 = ax.bar(x +width*0.5, xglm_13a_bleu_list, width, label='XGLM-13a')\n",
    "rects8 = ax.bar(x +width*1.5, mbart_13a_bleu_list, width, label='mBART-13a')\n",
    "rects9 = ax.bar(x +width*2.5, llama_13a_bleu_list, width, label='Llama-13a')\n",
    "\n",
    "rects10 = ax.bar(x +width*3.5, llama_sp_bleu_list, width, label='Llama-ar-sp')\n",
    "rects11 = ax.bar(x +width*4.5, xglm_sp_bleu_list, width, label='XGLM-ar-sp')\n",
    "\n",
    "\n",
    "# Adding labels and title\n",
    "ax.set_xlabel('Languages')\n",
    "ax.set_ylabel('Scores')\n",
    "ax.set_title('BLEU Score for Different Languages')\n",
    "ax.set_xticks(x)\n",
    "ax.set_xticklabels(lang_list)\n",
    "ax.legend()\n",
    "\n",
    "# Adjust the x-axis limits for better visualization\n",
    "ax.set_xlim(-0.5, len(lang_list) - 0.5)\n",
    "\n",
    "plt.yticks(range(0, 55,5))\n",
    "\n",
    "# Displaying the plot\n",
    "plt.tight_layout()\n",
    "plt.show()"
   ]
  },
  {
   "cell_type": "code",
   "execution_count": 6,
   "id": "a0797c18",
   "metadata": {},
   "outputs": [],
   "source": [
    "# XGLM-ar: sp is better\n",
    "# XGLM-ko: "
   ]
  }
 ],
 "metadata": {
  "kernelspec": {
   "display_name": "Python 3 (ipykernel)",
   "language": "python",
   "name": "python3"
  },
  "language_info": {
   "codemirror_mode": {
    "name": "ipython",
    "version": 3
   },
   "file_extension": ".py",
   "mimetype": "text/x-python",
   "name": "python",
   "nbconvert_exporter": "python",
   "pygments_lexer": "ipython3",
   "version": "3.8.0"
  }
 },
 "nbformat": 4,
 "nbformat_minor": 5
}
