{
 "cells": [
  {
   "cell_type": "code",
   "execution_count": 3,
   "id": "01ce641c",
   "metadata": {},
   "outputs": [],
   "source": [
    "import numpy as np\n",
    "import matplotlib.pyplot as plt\n",
    "import os"
   ]
  },
  {
   "cell_type": "code",
   "execution_count": 8,
   "id": "cb69be89",
   "metadata": {},
   "outputs": [],
   "source": [
    "# XGLM 1-1\n",
    "\n",
    "def get_score(context_size, model):\n",
    "    disk_dir = \"/mnt/data-poseidon/sumire/thesis\"\n",
    "    #xglm_path = f'/1-1/en-{lang}/xglm-{lang}-1-1/test_score.txt'\n",
    "    #llama_path = f'/1-1/en-{lang}/llama-{lang}-1-1/test_score.txt'\n",
    "\n",
    "    lang_list = os.listdir(disk_dir + f\"/{context_size}\")\n",
    "    for id, lang in enumerate(lang_list):\n",
    "        lang_list[id] = lang_list[id].replace(\"en-\", \"\")\n",
    "    print (lang_list)\n",
    "\n",
    "    lang_scores = {}\n",
    "\n",
    "    #for model_path in [xglm_path, llama_path]:\n",
    "    for lang in lang_list:\n",
    "        score_path = disk_dir+f'/1-1/en-{lang}/{model}-{lang}-1-1/test_score.txt'\n",
    "        if os.path.exists(score_path):\n",
    "            with open(score_path,'r') as wf:\n",
    "                lang_scores[lang] = wf.readlines()\n",
    "                \n",
    "        else:    \n",
    "            lang_scores[lang] = [\"bleu: 0\", \"comet: 0\", \"gen_len: 0\"]\n",
    "       \n",
    "    #print (lang_scores) #str.replace(\"\\n\", \"\")\n",
    "\n",
    "    # Sample data: replace this with your actual data\n",
    "    bleu_list = []\n",
    "    comet_list = []\n",
    "    for score_list in lang_scores.values():\n",
    "        bleu = score_list[0]\n",
    "        bleu = bleu.replace(\"bleu: \", \"\")\n",
    "        bleu = bleu.replace(\"\\n\", \"\")\n",
    "        bleu = float(bleu)\n",
    "        \n",
    "        comet = score_list[1]\n",
    "        comet = comet.replace(\"comet: \", \"\")\n",
    "        comet = comet.replace(\"\\n\", \"\")\n",
    "        comet = float(comet)\n",
    "        bleu_list.append(bleu)\n",
    "        comet_list.append(comet)\n",
    "    return comet_list, bleu_list, lang_list\n"
   ]
  },
  {
   "cell_type": "code",
   "execution_count": 10,
   "id": "25416e0f",
   "metadata": {},
   "outputs": [
    {
     "name": "stdout",
     "output_type": "stream",
     "text": [
      "['ar', 'ja', 'ko', 'de', 'zh']\n",
      "[0.7424775510204092, 0.7422354316546771, 0.7178769919427032, 0.6735774628879874, 0.7360884135472355]\n",
      "['ar', 'ja', 'ko', 'de', 'zh']\n",
      "[0.49336076342654245, 0.580534532374101, 0.464838943598926, 0.6572588129496405, 0.6180093582887694]\n"
     ]
    }
   ],
   "source": [
    "xglm_comet_list, xglm_bleu_list, lang_list = get_score(\"1-1\",\"xglm\")\n",
    "print (xglm_comet_list)\n",
    "llama_comet_list, llama_bleu_list, lang_list = get_score(\"1-1\",\"llama\")\n",
    "print (llama_comet_list)"
   ]
  },
  {
   "cell_type": "code",
   "execution_count": 13,
   "id": "bc33c0c6",
   "metadata": {
    "scrolled": false
   },
   "outputs": [
    {
     "name": "stdout",
     "output_type": "stream",
     "text": [
      "[0.49336076342654245, 0.580534532374101, 0.464838943598926, 0.6572588129496405, 0.6180093582887694]\n"
     ]
    },
    {
     "data": {
      "image/png": "[encoded data removed]",
      "text/plain": [
       "<Figure size 720x360 with 1 Axes>"
      ]
     },
     "metadata": {
      "needs_background": "light"
     },
     "output_type": "display_data"
    }
   ],
   "source": [
    "# Generating positions for the bars\n",
    "x = np.arange(len(lang_list))  # The label locations\n",
    "width = 0.35  # The width of the bars\n",
    "\n",
    "# Creating the plot\n",
    "fig, ax = plt.subplots(figsize=(10, len(lang_list)))\n",
    "rects1 = ax.bar(x - width/2, xglm_comet_list, width, label='XGLM')\n",
    "print (llama_comet_list)\n",
    "rects2 = ax.bar(x + width/2, llama_comet_list, width, label='LLAMA')\n",
    "\n",
    "# Adding labels and title\n",
    "ax.set_xlabel('Languages')\n",
    "ax.set_ylabel('Scores')\n",
    "ax.set_title('COMET Score for Different Languages')\n",
    "ax.set_xticks(x)\n",
    "ax.set_xticklabels(lang_list)\n",
    "ax.legend()\n",
    "\n",
    "# Displaying the plot\n",
    "plt.tight_layout()\n",
    "plt.show()\n"
   ]
  },
  {
   "cell_type": "code",
   "execution_count": 15,
   "id": "509ffa95",
   "metadata": {},
   "outputs": [
    {
     "name": "stdout",
     "output_type": "stream",
     "text": [
      "[0.49336076342654245, 0.580534532374101, 0.464838943598926, 0.6572588129496405, 0.6180093582887694]\n"
     ]
    },
    {
     "data": {
      "image/png": "[encoded data removed]",
      "text/plain": [
       "<Figure size 720x360 with 1 Axes>"
      ]
     },
     "metadata": {
      "needs_background": "light"
     },
     "output_type": "display_data"
    }
   ],
   "source": [
    "# Generating positions for the bars\n",
    "x = np.arange(len(lang_list))  # The label locations\n",
    "width = 0.35  # The width of the bars\n",
    "\n",
    "# Creating the plot\n",
    "fig, ax = plt.subplots(figsize=(10, len(lang_list)))\n",
    "rects1 = ax.bar(x - width/2, xglm_bleu_list, width, label='XGLM')\n",
    "print (llama_comet_list)\n",
    "rects2 = ax.bar(x + width/2, llama_bleu_list, width, label='LLAMA')\n",
    "\n",
    "# Adding labels and title\n",
    "ax.set_xlabel('Languages')\n",
    "ax.set_ylabel('Scores')\n",
    "ax.set_title('BLEU Score for Different Languages')\n",
    "ax.set_xticks(x)\n",
    "ax.set_xticklabels(lang_list)\n",
    "ax.legend()\n",
    "\n",
    "# Displaying the plot\n",
    "plt.tight_layout()\n",
    "plt.show()"
   ]
  }
 ],
 "metadata": {
  "kernelspec": {
   "display_name": "Python 3 (ipykernel)",
   "language": "python",
   "name": "python3"
  },
  "language_info": {
   "codemirror_mode": {
    "name": "ipython",
    "version": 3
   },
   "file_extension": ".py",
   "mimetype": "text/x-python",
   "name": "python",
   "nbconvert_exporter": "python",
   "pygments_lexer": "ipython3",
   "version": "3.8.0"
  }
 },
 "nbformat": 4,
 "nbformat_minor": 5
}
