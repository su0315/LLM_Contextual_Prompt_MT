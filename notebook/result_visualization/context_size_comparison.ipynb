{
 "cells": [
  {
   "cell_type": "code",
   "execution_count": 21,
   "id": "01ce641c",
   "metadata": {},
   "outputs": [],
   "source": [
    "import numpy as np\n",
    "import matplotlib.pyplot as plt\n",
    "import os"
   ]
  },
  {
   "cell_type": "code",
   "execution_count": 26,
   "id": "cb69be89",
   "metadata": {},
   "outputs": [],
   "source": [
    "def get_score(context_size, model):\n",
    "    disk_dir = \"/mnt/data-poseidon/sumire/thesis\"\n",
    "    #xglm_path = f'/{src_context_size}-1/en-{lang}/xglm-{lang}-1-1/test_score.txt'\n",
    "    #llama_path = f'/1-1/en-{lang}/llama-{lang}-1-1/test_score.txt'\n",
    "\n",
    "    lang_list = os.listdir(disk_dir + f\"/{context_size}\")\n",
    "    for id, lang in enumerate(lang_list):\n",
    "        lang_list[id] = lang_list[id].replace(\"en-\", \"\")\n",
    "    print (lang_list)\n",
    "\n",
    "    lang_scores = {}\n",
    "\n",
    "    #for model_path in [xglm_path, llama_path]:\n",
    "    for lang in lang_list:\n",
    "        score_path = disk_dir+f'/{context_size}/en-{lang}/{model}-{lang}-{context_size}/test_score.txt'\n",
    "        print (score_path)\n",
    "        if os.path.exists(score_path):\n",
    "            with open(score_path,'r') as wf:\n",
    "                lang_scores[lang] = wf.readlines()\n",
    "                \n",
    "        else:    \n",
    "            lang_scores[lang] = [\"bleu: 0\", \"comet: 0\", \"gen_len: 0\"]\n",
    "       \n",
    "    #print (lang_scores) #str.replace(\"\\n\", \"\")\n",
    "\n",
    "    # Sample data: replace this with your actual data\n",
    "    bleu_list = []\n",
    "    comet_list = []\n",
    "    for score_list in lang_scores.values():\n",
    "        bleu = score_list[0]\n",
    "        bleu = bleu.replace(\"bleu: \", \"\")\n",
    "        bleu = bleu.replace(\"\\n\", \"\")\n",
    "        bleu = float(bleu)\n",
    "        \n",
    "        comet = score_list[1]\n",
    "        comet = comet.replace(\"comet: \", \"\")\n",
    "        comet = comet.replace(\"\\n\", \"\")\n",
    "        comet = float(comet)\n",
    "        bleu_list.append(bleu)\n",
    "        comet_list.append(comet)\n",
    "    return comet_list, bleu_list, lang_list\n"
   ]
  },
  {
   "cell_type": "code",
   "execution_count": 27,
   "id": "25416e0f",
   "metadata": {},
   "outputs": [
    {
     "name": "stdout",
     "output_type": "stream",
     "text": [
      "['ar', 'fr', 'ja', 'ko', 'de', 'zh']\n",
      "/mnt/data-poseidon/sumire/thesis/1-1/en-ar/xglm-ar-1-1/test_score.txt\n",
      "/mnt/data-poseidon/sumire/thesis/1-1/en-fr/xglm-fr-1-1/test_score.txt\n",
      "/mnt/data-poseidon/sumire/thesis/1-1/en-ja/xglm-ja-1-1/test_score.txt\n",
      "/mnt/data-poseidon/sumire/thesis/1-1/en-ko/xglm-ko-1-1/test_score.txt\n",
      "/mnt/data-poseidon/sumire/thesis/1-1/en-de/xglm-de-1-1/test_score.txt\n",
      "/mnt/data-poseidon/sumire/thesis/1-1/en-zh/xglm-zh-1-1/test_score.txt\n",
      "[0.7363996815286622, 0.6577577106518289, 0.7286548387096775, 0.7128320388349516, 0.6608086956521741, 0.7443851437699676]\n",
      "\n",
      "['ar', 'fr', 'ja', 'ko', 'de', 'zh']\n",
      "/mnt/data-poseidon/sumire/thesis/2-1/en-ar/xglm-ar-2-1/test_score.txt\n",
      "/mnt/data-poseidon/sumire/thesis/2-1/en-fr/xglm-fr-2-1/test_score.txt\n",
      "/mnt/data-poseidon/sumire/thesis/2-1/en-ja/xglm-ja-2-1/test_score.txt\n",
      "/mnt/data-poseidon/sumire/thesis/2-1/en-ko/xglm-ko-2-1/test_score.txt\n",
      "/mnt/data-poseidon/sumire/thesis/2-1/en-de/xglm-de-2-1/test_score.txt\n",
      "/mnt/data-poseidon/sumire/thesis/2-1/en-zh/xglm-zh-2-1/test_score.txt\n",
      "[0.7277729299363057, 0.6729198728139906, 0.7168429032258069, 0.6942359223300979, 0.6609260869565214, 0.7449750798722048]\n",
      "\n",
      "['ar', 'fr', 'ja', 'ko', 'de', 'zh']\n",
      "/mnt/data-poseidon/sumire/thesis/1-1/en-ar/llama-ar-1-1/test_score.txt\n",
      "/mnt/data-poseidon/sumire/thesis/1-1/en-fr/llama-fr-1-1/test_score.txt\n",
      "/mnt/data-poseidon/sumire/thesis/1-1/en-ja/llama-ja-1-1/test_score.txt\n",
      "/mnt/data-poseidon/sumire/thesis/1-1/en-ko/llama-ko-1-1/test_score.txt\n",
      "/mnt/data-poseidon/sumire/thesis/1-1/en-de/llama-de-1-1/test_score.txt\n",
      "/mnt/data-poseidon/sumire/thesis/1-1/en-zh/llama-zh-1-1/test_score.txt\n",
      "[0.48509999999999986, 0.6463109697933218, 0.5040316129032265, 0.5077964401294502, 0.49849230769230757, 0.6128589128697052]\n",
      "['ar', 'fr', 'ja', 'ko', 'de', 'zh']\n",
      "/mnt/data-poseidon/sumire/thesis/2-1/en-ar/llama-ar-2-1/test_score.txt\n",
      "/mnt/data-poseidon/sumire/thesis/2-1/en-fr/llama-fr-2-1/test_score.txt\n",
      "/mnt/data-poseidon/sumire/thesis/2-1/en-ja/llama-ja-2-1/test_score.txt\n",
      "/mnt/data-poseidon/sumire/thesis/2-1/en-ko/llama-ko-2-1/test_score.txt\n",
      "/mnt/data-poseidon/sumire/thesis/2-1/en-de/llama-de-2-1/test_score.txt\n",
      "/mnt/data-poseidon/sumire/thesis/2-1/en-zh/llama-zh-2-1/test_score.txt\n",
      "[0.4882799043062207, 0.6323693163751989, 0.49494774193548374, 0.5039608414239481, 0.4736686666666666, 0.6090306155075936]\n"
     ]
    }
   ],
   "source": [
    "xglm_comet_list, xglm_bleu_list, lang_list = get_score(\"1-1\",\"xglm\")\n",
    "print (xglm_comet_list)\n",
    "print()\n",
    "xglm_comet_list_2, xglm_bleu_list_2, lang_list = get_score(\"2-1\",\"xglm\")\n",
    "print (xglm_comet_list_2)\n",
    "print ()\n",
    "llama_comet_list, llama_bleu_list, lang_list = get_score(\"1-1\",\"llama\")\n",
    "print (llama_comet_list)\n",
    "llama_comet_list_2, llama_bleu_list_2, lang_list = get_score(\"2-1\",\"llama\")\n",
    "print (llama_comet_list_2)"
   ]
  },
  {
   "cell_type": "code",
   "execution_count": 28,
   "id": "bc33c0c6",
   "metadata": {
    "scrolled": false
   },
   "outputs": [
    {
     "data": {
      "image/png": "[encoded data removed]",
      "text/plain": [
       "<Figure size 720x432 with 1 Axes>"
      ]
     },
     "metadata": {
      "needs_background": "light"
     },
     "output_type": "display_data"
    }
   ],
   "source": [
    "# Generating positions for the bars\n",
    "x = np.arange(len(lang_list))  # The label locations\n",
    "width = 0.15  # The width of the bars\n",
    "\n",
    "# Creating the plot\n",
    "fig, ax = plt.subplots(figsize=(10, len(lang_list)))\n",
    "rects1 = ax.bar(x - width*1.5, xglm_comet_list, width, label='XGLM 1-1')\n",
    "rects2 = ax.bar(x - width*0.5, xglm_comet_list_2, width, label='XGLM 2-1')\n",
    "rects3 = ax.bar(x +width*0.5, llama_comet_list, width, label='LLAMA 1-1')\n",
    "rects4 = ax.bar(x + width*1.5, llama_comet_list_2, width, label='LLAMA 2-1')\n",
    "\n",
    "# Adding labels and title\n",
    "ax.set_xlabel('Languages')\n",
    "ax.set_ylabel('Scores')\n",
    "ax.set_title('COMET Score for Different Languages')\n",
    "ax.set_xticks(x)\n",
    "ax.set_xticklabels(lang_list)\n",
    "ax.legend()\n",
    "\n",
    "# Adjust the x-axis limits for better visualization\n",
    "ax.set_xlim(-0.5, len(lang_list) - 0.5)\n",
    "\n",
    "# Displaying the plot\n",
    "plt.tight_layout()\n",
    "plt.show()\n"
   ]
  },
  {
   "cell_type": "code",
   "execution_count": 29,
   "id": "509ffa95",
   "metadata": {},
   "outputs": [
    {
     "data": {
      "image/png": "[encoded data removed]",
      "text/plain": [
       "<Figure size 720x432 with 1 Axes>"
      ]
     },
     "metadata": {
      "needs_background": "light"
     },
     "output_type": "display_data"
    }
   ],
   "source": [
    "# Generating positions for the bars\n",
    "x = np.arange(len(lang_list))  # The label locations\n",
    "width = 0.15  # The width of the bars\n",
    "\n",
    "# Creating the plot\n",
    "fig, ax = plt.subplots(figsize=(10, len(lang_list)))\n",
    "rects1 = ax.bar(x - width*1.5, xglm_bleu_list, width, label='XGLM 1-1')\n",
    "rects2 = ax.bar(x - width*0.5, xglm_bleu_list_2, width, label='XGLM 2-1')\n",
    "rects3 = ax.bar(x + width*0.5, llama_bleu_list, width, label='LLAMA 1-1')\n",
    "rects4 = ax.bar(x + width*1.5, llama_bleu_list_2, width, label='LLAMA 2-1')\n",
    "\n",
    "# Adding labels and title\n",
    "ax.set_xlabel('Languages')\n",
    "ax.set_ylabel('Scores')\n",
    "ax.set_title('BLEU Score for Different Languages')\n",
    "ax.set_xticks(x)\n",
    "ax.set_xticklabels(lang_list)\n",
    "ax.legend()\n",
    "\n",
    "# Adjust the x-axis limits for better visualization\n",
    "ax.set_xlim(-0.5, len(lang_list) - 0.5)\n",
    "\n",
    "plt.yticks(range(0, 55,5))\n",
    "\n",
    "# Displaying the plot\n",
    "plt.tight_layout()\n",
    "plt.show()"
   ]
  }
 ],
 "metadata": {
  "kernelspec": {
   "display_name": "Python 3 (ipykernel)",
   "language": "python",
   "name": "python3"
  },
  "language_info": {
   "codemirror_mode": {
    "name": "ipython",
    "version": 3
   },
   "file_extension": ".py",
   "mimetype": "text/x-python",
   "name": "python",
   "nbconvert_exporter": "python",
   "pygments_lexer": "ipython3",
   "version": "3.8.0"
  }
 },
 "nbformat": 4,
 "nbformat_minor": 5
}
