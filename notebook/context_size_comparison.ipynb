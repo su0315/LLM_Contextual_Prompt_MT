{
 "cells": [
  {
   "cell_type": "code",
   "execution_count": 3,
   "id": "01ce641c",
   "metadata": {},
   "outputs": [],
   "source": [
    "import numpy as np\n",
    "import matplotlib.pyplot as plt\n",
    "import os"
   ]
  },
  {
   "cell_type": "markdown",
   "id": "0eddd111",
   "metadata": {},
   "source": [
    "- Graph1:\n",
    "    - x ax: lang\n",
    "    - y zx: COMET\n",
    "        - bar1: 1-1\n",
    "        - bar2: 2-1\n",
    "        - bar3: 3-1\n",
    "        ..."
   ]
  },
  {
   "cell_type": "code",
   "execution_count": 12,
   "id": "cb69be89",
   "metadata": {},
   "outputs": [],
   "source": [
    "# XGLM 1-1\n",
    "\n",
    "def get_score(context_size, model):\n",
    "    disk_dir = \"/mnt/data-poseidon/sumire/thesis\"\n",
    "    #xglm_path = f'/1-1/en-{lang}/xglm-{lang}-1-1/test_score.txt'\n",
    "    #llama_path = f'/1-1/en-{lang}/llama-{lang}-1-1/test_score.txt'\n",
    "\n",
    "    lang_list = os.listdir(disk_dir + f\"/{context_size}\")\n",
    "    for id, lang in enumerate(lang_list):\n",
    "        lang_list[id] = lang_list[id].replace(\"en-\", \"\")\n",
    "    print (lang_list)\n",
    "\n",
    "    lang_scores = {}\n",
    "\n",
    "    #for model_path in [xglm_path, llama_path]:\n",
    "    for lang in lang_list:\n",
    "        score_path = disk_dir+f'/{context_size}/en-{lang}/{model}-{lang}-{context_size}/test_score.txt'\n",
    "        if os.path.exists(score_path):\n",
    "            with open(score_path,'r') as wf:\n",
    "                lang_scores[lang] = wf.readlines()\n",
    "                \n",
    "        else:    \n",
    "            lang_scores[lang] = [\"bleu: 0\", \"comet: 0\", \"gen_len: 0\"]\n",
    "       \n",
    "    #print (lang_scores) #str.replace(\"\\n\", \"\")\n",
    "\n",
    "    # Sample data: replace this with your actual data\n",
    "    bleu_list = []\n",
    "    comet_list = []\n",
    "    for score_list in lang_scores.values():\n",
    "        bleu = score_list[0]\n",
    "        bleu = bleu.replace(\"bleu: \", \"\")\n",
    "        bleu = bleu.replace(\"\\n\", \"\")\n",
    "        bleu = float(bleu)\n",
    "        \n",
    "        comet = score_list[1]\n",
    "        comet = comet.replace(\"comet: \", \"\")\n",
    "        comet = comet.replace(\"\\n\", \"\")\n",
    "        comet = float(comet)\n",
    "        bleu_list.append(bleu)\n",
    "        comet_list.append(comet)\n",
    "    return comet_list, bleu_list, lang_list\n"
   ]
  },
  {
   "cell_type": "code",
   "execution_count": 13,
   "id": "25416e0f",
   "metadata": {},
   "outputs": [
    {
     "name": "stdout",
     "output_type": "stream",
     "text": [
      "['ja']\n",
      "[0.7144560747663551]\n",
      "['ja']\n",
      "[0.508511111111111]\n"
     ]
    }
   ],
   "source": [
    "#xglm_comet_list_0, xglm_bleu_list, lang_list = get_score(\"1-1\",\"xglm\")\n",
    "xglm_comet_list_1, xglm_bleu_list, lang_list = get_score(\"2-1\",\"xglm\")\n",
    "print (xglm_comet_list_1)\n",
    "\n",
    "#llama_comet_list_0, llama_bleu_list, lang_list = get_score(\"1-1\",\"llama\")\n",
    "llama_comet_list_1, xglm_bleu_list, lang_list = get_score(\"2-1\",\"llama\")\n",
    "\n",
    "print (llama_comet_list_1)"
   ]
  },
  {
   "cell_type": "code",
   "execution_count": 14,
   "id": "bc33c0c6",
   "metadata": {
    "scrolled": false
   },
   "outputs": [
    {
     "ename": "NameError",
     "evalue": "name 'xglm_comet_list' is not defined",
     "output_type": "error",
     "traceback": [
      "\u001b[0;31m---------------------------------------------------------------------------\u001b[0m",
      "\u001b[0;31mNameError\u001b[0m                                 Traceback (most recent call last)",
      "Input \u001b[0;32mIn [14]\u001b[0m, in \u001b[0;36m<cell line: 7>\u001b[0;34m()\u001b[0m\n\u001b[1;32m      5\u001b[0m \u001b[38;5;66;03m# Creating the plot\u001b[39;00m\n\u001b[1;32m      6\u001b[0m fig, ax \u001b[38;5;241m=\u001b[39m plt\u001b[38;5;241m.\u001b[39msubplots(figsize\u001b[38;5;241m=\u001b[39m(\u001b[38;5;241m10\u001b[39m, \u001b[38;5;28mlen\u001b[39m(lang_list)))\n\u001b[0;32m----> 7\u001b[0m rects1 \u001b[38;5;241m=\u001b[39m ax\u001b[38;5;241m.\u001b[39mbar(x \u001b[38;5;241m-\u001b[39m width\u001b[38;5;241m/\u001b[39m\u001b[38;5;241m2\u001b[39m, \u001b[43mxglm_comet_list\u001b[49m, width, label\u001b[38;5;241m=\u001b[39m\u001b[38;5;124m'\u001b[39m\u001b[38;5;124mXGLM\u001b[39m\u001b[38;5;124m'\u001b[39m)\n\u001b[1;32m      8\u001b[0m \u001b[38;5;28mprint\u001b[39m (llama_comet_list)\n\u001b[1;32m      9\u001b[0m rects2 \u001b[38;5;241m=\u001b[39m ax\u001b[38;5;241m.\u001b[39mbar(x \u001b[38;5;241m+\u001b[39m width\u001b[38;5;241m/\u001b[39m\u001b[38;5;241m2\u001b[39m, llama_comet_list, width, label\u001b[38;5;241m=\u001b[39m\u001b[38;5;124m'\u001b[39m\u001b[38;5;124mLLAMA\u001b[39m\u001b[38;5;124m'\u001b[39m)\n",
      "\u001b[0;31mNameError\u001b[0m: name 'xglm_comet_list' is not defined"
     ]
    },
    {
     "data": {
      "image/png": "[encoded data removed]",
      "text/plain": [
       "<Figure size 720x72 with 1 Axes>"
      ]
     },
     "metadata": {
      "needs_background": "light"
     },
     "output_type": "display_data"
    }
   ],
   "source": [
    "# Generating positions for the bars\n",
    "x = np.arange(len(lang_list))  # The label locations\n",
    "width = 0.35  # The width of the bars\n",
    "\n",
    "# Creating the plot\n",
    "fig, ax = plt.subplots(figsize=(10, len(lang_list)))\n",
    "rects1 = ax.bar(x - width/2, xglm_comet_list_1, width, label='XGLM')\n",
    "print (llama_comet_list)\n",
    "rects2 = ax.bar(x + width/2, llama_comet_list, width, label='LLAMA')\n",
    "\n",
    "# Adding labels and title\n",
    "ax.set_xlabel('Languages')\n",
    "ax.set_ylabel('Scores')\n",
    "ax.set_title('COMET Score for Different Languages')\n",
    "ax.set_xticks(x)\n",
    "ax.set_xticklabels(lang_list)\n",
    "ax.legend()\n",
    "\n",
    "# Displaying the plot\n",
    "plt.tight_layout()\n",
    "plt.show()\n"
   ]
  },
  {
   "cell_type": "code",
   "execution_count": 15,
   "id": "509ffa95",
   "metadata": {},
   "outputs": [
    {
     "name": "stdout",
     "output_type": "stream",
     "text": [
      "[0.49336076342654245, 0.580534532374101, 0.464838943598926, 0.6572588129496405, 0.6180093582887694]\n"
     ]
    },
    {
     "data": {
      "image/png": "[encoded data removed]",
      "text/plain": [
       "<Figure size 720x360 with 1 Axes>"
      ]
     },
     "metadata": {
      "needs_background": "light"
     },
     "output_type": "display_data"
    }
   ],
   "source": [
    "# Generating positions for the bars\n",
    "x = np.arange(len(lang_list))  # The label locations\n",
    "width = 0.35  # The width of the bars\n",
    "\n",
    "# Creating the plot\n",
    "fig, ax = plt.subplots(figsize=(10, len(lang_list)))\n",
    "rects1 = ax.bar(x - width/2, xglm_bleu_list, width, label='XGLM')\n",
    "print (llama_comet_list)\n",
    "rects2 = ax.bar(x + width/2, llama_bleu_list, width, label='LLAMA')\n",
    "\n",
    "# Adding labels and title\n",
    "ax.set_xlabel('Languages')\n",
    "ax.set_ylabel('Scores')\n",
    "ax.set_title('BLEU Score for Different Languages')\n",
    "ax.set_xticks(x)\n",
    "ax.set_xticklabels(lang_list)\n",
    "ax.legend()\n",
    "\n",
    "# Displaying the plot\n",
    "plt.tight_layout()\n",
    "plt.show()"
   ]
  }
 ],
 "metadata": {
  "kernelspec": {
   "display_name": "Python 3 (ipykernel)",
   "language": "python",
   "name": "python3"
  },
  "language_info": {
   "codemirror_mode": {
    "name": "ipython",
    "version": 3
   },
   "file_extension": ".py",
   "mimetype": "text/x-python",
   "name": "python",
   "nbconvert_exporter": "python",
   "pygments_lexer": "ipython3",
   "version": "3.8.0"
  }
 },
 "nbformat": 4,
 "nbformat_minor": 5
}
