{
 "cells": [
  {
   "cell_type": "code",
   "execution_count": 3,
   "id": "18234275",
   "metadata": {},
   "outputs": [],
   "source": [
    "from transformers import Trainer, TrainingArguments\n",
    "from transformers import AutoTokenizer, AutoModelForSequenceClassification\n",
    "import pandas as pd\n",
    "from datasets import Dataset, load_dataset, ClassLabel\n",
    "import numpy as np\n",
    "from typing import List\n",
    "from transformers import DataCollatorWithPadding\n",
    "import evaluate\n",
    "import torch"
   ]
  },
  {
   "cell_type": "code",
   "execution_count": null,
   "id": "b16a79be",
   "metadata": {},
   "outputs": [],
   "source": [
    "%env CUDA_VISIBLE_DEVICES=2\n",
    "%env TOKENIZERS_PARALLELISM=false\n",
    "#torch.manual_seed(0)\n",
    "#torch.use_deterministic_algorithms(True)\n",
    "os.environ[\"CUBLAS_WORKSPACE_CONFIG\"] = \":4096:8\""
   ]
  },
  {
   "cell_type": "code",
   "execution_count": 4,
   "id": "2a561639",
   "metadata": {
    "scrolled": true
   },
   "outputs": [
    {
     "name": "stderr",
     "output_type": "stream",
     "text": [
      "Using custom data configuration default-e4b60b9fd844da79\n",
      "Found cached dataset json (/home/sumire/.cache/huggingface/datasets/json/default-e4b60b9fd844da79/0.0.0/e6070c77f18f01a5ad4551a8b7edfba20b8438b7cad4d94e6ad9378022ce4aab)\n"
     ]
    },
    {
     "data": {
      "application/vnd.jupyter.widget-view+json": {
       "model_id": "54f00a781773433d9d538ce55690b0f6",
       "version_major": 2,
       "version_minor": 0
      },
      "text/plain": [
       "  0%|          | 0/1 [00:00<?, ?it/s]"
      ]
     },
     "metadata": {},
     "output_type": "display_data"
    },
    {
     "data": {
      "text/plain": [
       "DatasetDict({\n",
       "    test: Dataset({\n",
       "        features: ['talk_id', 'doc'],\n",
       "        num_rows: 92\n",
       "    })\n",
       "})"
      ]
     },
     "execution_count": 4,
     "metadata": {},
     "output_type": "execute_result"
    }
   ],
   "source": [
    "tgt_lang = \"de\"\n",
    "file_path = \"/home/sumire/thesis/LLM_Contextual_Prompt_MT/data/iwslt_hf/\"\n",
    "\n",
    "data_files = { \"test\": f\"{file_path}ted_en-{tgt_lang}\"}\n",
    "dataset = load_dataset(\"json\", data_files=data_files)\n",
    "dataset"
   ]
  },
  {
   "cell_type": "code",
   "execution_count": 5,
   "id": "aaed7d92",
   "metadata": {},
   "outputs": [],
   "source": [
    "id2label ={0: \"anger\", 1: \"fear\", 2: \"joy\", 3: \"sadness\"}\n",
    "label2id = {\"anger\" : 0, \"fear\" : 1, \"joy\": 2, \"sadness\": 3}"
   ]
  },
  {
   "cell_type": "code",
   "execution_count": null,
   "id": "78db70a6",
   "metadata": {},
   "outputs": [],
   "source": []
  },
  {
   "cell_type": "markdown",
   "id": "718fa604",
   "metadata": {},
   "source": [
    "# XLM-EMO"
   ]
  },
  {
   "cell_type": "code",
   "execution_count": 6,
   "id": "a6808aae",
   "metadata": {},
   "outputs": [],
   "source": [
    "tokenizer = AutoTokenizer.from_pretrained(\"MilaNLProc/xlm-emo-t\")\n",
    "model = AutoModelForSequenceClassification.from_pretrained(\"MilaNLProc/xlm-emo-t\", num_labels=4, id2label=id2label, label2id=label2id)"
   ]
  },
  {
   "cell_type": "markdown",
   "id": "999136b9",
   "metadata": {},
   "source": [
    "# Predict tgt language gold sentence with emotion label"
   ]
  },
  {
   "cell_type": "code",
   "execution_count": null,
   "id": "9c1b60af",
   "metadata": {},
   "outputs": [],
   "source": [
    "def preprocess_function(data):\n",
    "    inputs = [sent for doc in data[\"doc\"] for sent in doc[tgt_lang]][:50]\n",
    "    return tokenizer(inputs, truncation=True, padding=True, return_tensors=\"pt\")"
   ]
  },
  {
   "cell_type": "code",
   "execution_count": null,
   "id": "035af804",
   "metadata": {},
   "outputs": [],
   "source": [
    "tokenized_dataset = dataset.map(preprocess_function, batched=True, remove_columns=dataset[\"test\"].column_names,)\n",
    "data_collator = DataCollatorWithPadding(tokenizer=tokenizer)"
   ]
  },
  {
   "cell_type": "code",
   "execution_count": 8,
   "id": "dfc19c69",
   "metadata": {
    "scrolled": true
   },
   "outputs": [
    {
     "name": "stderr",
     "output_type": "stream",
     "text": [
      "Using custom data configuration default-17fa6efc908acb86\n",
      "Found cached dataset json (/home/sumire/.cache/huggingface/datasets/json/default-17fa6efc908acb86/0.0.0/e6070c77f18f01a5ad4551a8b7edfba20b8438b7cad4d94e6ad9378022ce4aab)\n"
     ]
    },
    {
     "data": {
      "application/vnd.jupyter.widget-view+json": {
       "model_id": "69dd995df02445aaab57f0148644971d",
       "version_major": 2,
       "version_minor": 0
      },
      "text/plain": [
       "  0%|          | 0/1 [00:00<?, ?it/s]"
      ]
     },
     "metadata": {},
     "output_type": "display_data"
    },
    {
     "name": "stderr",
     "output_type": "stream",
     "text": [
      "Asking to truncate to max_length but no maximum length is provided and the model has no predefined maximum length. Default to no truncation.\n"
     ]
    },
    {
     "name": "stdout",
     "output_type": "stream",
     "text": [
      "en\n",
      "ja\n"
     ]
    },
    {
     "name": "stderr",
     "output_type": "stream",
     "text": [
      "Using custom data configuration default-e4b60b9fd844da79\n",
      "Found cached dataset json (/home/sumire/.cache/huggingface/datasets/json/default-e4b60b9fd844da79/0.0.0/e6070c77f18f01a5ad4551a8b7edfba20b8438b7cad4d94e6ad9378022ce4aab)\n"
     ]
    },
    {
     "data": {
      "application/vnd.jupyter.widget-view+json": {
       "model_id": "9f6660dab37040b29833dc88a3172037",
       "version_major": 2,
       "version_minor": 0
      },
      "text/plain": [
       "  0%|          | 0/1 [00:00<?, ?it/s]"
      ]
     },
     "metadata": {},
     "output_type": "display_data"
    },
    {
     "name": "stdout",
     "output_type": "stream",
     "text": [
      "en\n",
      "de\n"
     ]
    },
    {
     "name": "stderr",
     "output_type": "stream",
     "text": [
      "Using custom data configuration default-911eedd4b6eede3d\n",
      "Found cached dataset json (/home/sumire/.cache/huggingface/datasets/json/default-911eedd4b6eede3d/0.0.0/e6070c77f18f01a5ad4551a8b7edfba20b8438b7cad4d94e6ad9378022ce4aab)\n"
     ]
    },
    {
     "data": {
      "application/vnd.jupyter.widget-view+json": {
       "model_id": "881aa3075c3b44e295eb39f2fb184e16",
       "version_major": 2,
       "version_minor": 0
      },
      "text/plain": [
       "  0%|          | 0/1 [00:00<?, ?it/s]"
      ]
     },
     "metadata": {},
     "output_type": "display_data"
    },
    {
     "name": "stdout",
     "output_type": "stream",
     "text": [
      "en\n",
      "fr\n"
     ]
    },
    {
     "name": "stderr",
     "output_type": "stream",
     "text": [
      "Using custom data configuration default-cc3d46cbb1e70fd4\n",
      "Found cached dataset json (/home/sumire/.cache/huggingface/datasets/json/default-cc3d46cbb1e70fd4/0.0.0/e6070c77f18f01a5ad4551a8b7edfba20b8438b7cad4d94e6ad9378022ce4aab)\n"
     ]
    },
    {
     "data": {
      "application/vnd.jupyter.widget-view+json": {
       "model_id": "224c05d474b549818974723d855cbe2a",
       "version_major": 2,
       "version_minor": 0
      },
      "text/plain": [
       "  0%|          | 0/1 [00:00<?, ?it/s]"
      ]
     },
     "metadata": {},
     "output_type": "display_data"
    },
    {
     "name": "stdout",
     "output_type": "stream",
     "text": [
      "en\n",
      "zh\n"
     ]
    },
    {
     "name": "stderr",
     "output_type": "stream",
     "text": [
      "Using custom data configuration default-94e223f2f26d1b2a\n",
      "Found cached dataset json (/home/sumire/.cache/huggingface/datasets/json/default-94e223f2f26d1b2a/0.0.0/e6070c77f18f01a5ad4551a8b7edfba20b8438b7cad4d94e6ad9378022ce4aab)\n"
     ]
    },
    {
     "data": {
      "application/vnd.jupyter.widget-view+json": {
       "model_id": "728456aefe5943e499fbd2372f3e56e4",
       "version_major": 2,
       "version_minor": 0
      },
      "text/plain": [
       "  0%|          | 0/1 [00:00<?, ?it/s]"
      ]
     },
     "metadata": {},
     "output_type": "display_data"
    },
    {
     "name": "stdout",
     "output_type": "stream",
     "text": [
      "en\n",
      "ar\n"
     ]
    },
    {
     "name": "stderr",
     "output_type": "stream",
     "text": [
      "Using custom data configuration default-3a9183ebb6967fe8\n",
      "Found cached dataset json (/home/sumire/.cache/huggingface/datasets/json/default-3a9183ebb6967fe8/0.0.0/e6070c77f18f01a5ad4551a8b7edfba20b8438b7cad4d94e6ad9378022ce4aab)\n"
     ]
    },
    {
     "data": {
      "application/vnd.jupyter.widget-view+json": {
       "model_id": "2dad20af87b74f33b8ef74b3f04d305c",
       "version_major": 2,
       "version_minor": 0
      },
      "text/plain": [
       "  0%|          | 0/1 [00:00<?, ?it/s]"
      ]
     },
     "metadata": {},
     "output_type": "display_data"
    },
    {
     "name": "stdout",
     "output_type": "stream",
     "text": [
      "en\n",
      "ko\n"
     ]
    },
    {
     "data": {
      "text/plain": [
       "{'ko': ['joy',\n",
       "  'joy',\n",
       "  'anger',\n",
       "  'anger',\n",
       "  'anger',\n",
       "  'joy',\n",
       "  'joy',\n",
       "  'joy',\n",
       "  'joy',\n",
       "  'joy',\n",
       "  'joy',\n",
       "  'anger',\n",
       "  'anger',\n",
       "  'joy',\n",
       "  'sadness',\n",
       "  'sadness',\n",
       "  'anger',\n",
       "  'joy',\n",
       "  'joy',\n",
       "  'anger',\n",
       "  'joy',\n",
       "  'anger',\n",
       "  'joy',\n",
       "  'anger',\n",
       "  'sadness',\n",
       "  'sadness',\n",
       "  'sadness',\n",
       "  'sadness',\n",
       "  'anger',\n",
       "  'anger',\n",
       "  'sadness',\n",
       "  'anger',\n",
       "  'anger',\n",
       "  'anger',\n",
       "  'anger',\n",
       "  'sadness',\n",
       "  'anger',\n",
       "  'sadness',\n",
       "  'anger',\n",
       "  'anger',\n",
       "  'sadness',\n",
       "  'anger',\n",
       "  'anger',\n",
       "  'joy',\n",
       "  'joy',\n",
       "  'anger',\n",
       "  'fear',\n",
       "  'fear',\n",
       "  'anger',\n",
       "  'joy',\n",
       "  'joy',\n",
       "  'joy',\n",
       "  'fear',\n",
       "  'anger',\n",
       "  'fear',\n",
       "  'anger',\n",
       "  'anger',\n",
       "  'joy',\n",
       "  'anger',\n",
       "  'joy',\n",
       "  'joy',\n",
       "  'sadness',\n",
       "  'joy',\n",
       "  'fear',\n",
       "  'sadness',\n",
       "  'sadness',\n",
       "  'sadness',\n",
       "  'joy',\n",
       "  'joy',\n",
       "  'joy',\n",
       "  'sadness',\n",
       "  'sadness',\n",
       "  'joy',\n",
       "  'sadness',\n",
       "  'sadness',\n",
       "  'joy',\n",
       "  'joy',\n",
       "  'joy',\n",
       "  'sadness',\n",
       "  'joy',\n",
       "  'joy',\n",
       "  'fear',\n",
       "  'sadness',\n",
       "  'joy',\n",
       "  'sadness',\n",
       "  'sadness',\n",
       "  'joy',\n",
       "  'sadness',\n",
       "  'sadness',\n",
       "  'sadness',\n",
       "  'sadness',\n",
       "  'joy',\n",
       "  'anger',\n",
       "  'joy',\n",
       "  'joy',\n",
       "  'joy',\n",
       "  'sadness',\n",
       "  'sadness',\n",
       "  'sadness',\n",
       "  'joy',\n",
       "  'joy',\n",
       "  'joy',\n",
       "  'joy',\n",
       "  'anger',\n",
       "  'joy',\n",
       "  'joy',\n",
       "  'sadness',\n",
       "  'joy',\n",
       "  'joy',\n",
       "  'joy',\n",
       "  'joy',\n",
       "  'joy',\n",
       "  'joy',\n",
       "  'joy',\n",
       "  'fear',\n",
       "  'joy',\n",
       "  'fear',\n",
       "  'fear',\n",
       "  'fear',\n",
       "  'anger',\n",
       "  'fear',\n",
       "  'fear',\n",
       "  'fear',\n",
       "  'fear',\n",
       "  'anger',\n",
       "  'joy',\n",
       "  'sadness',\n",
       "  'sadness',\n",
       "  'joy',\n",
       "  'fear',\n",
       "  'joy',\n",
       "  'joy',\n",
       "  'anger',\n",
       "  'sadness',\n",
       "  'fear',\n",
       "  'joy',\n",
       "  'sadness',\n",
       "  'sadness',\n",
       "  'fear',\n",
       "  'fear',\n",
       "  'joy',\n",
       "  'joy',\n",
       "  'fear',\n",
       "  'fear',\n",
       "  'sadness',\n",
       "  'fear',\n",
       "  'fear',\n",
       "  'fear',\n",
       "  'joy',\n",
       "  'joy',\n",
       "  'fear',\n",
       "  'fear',\n",
       "  'sadness',\n",
       "  'fear',\n",
       "  'fear',\n",
       "  'fear',\n",
       "  'fear',\n",
       "  'fear',\n",
       "  'fear',\n",
       "  'fear',\n",
       "  'fear',\n",
       "  'sadness',\n",
       "  'joy',\n",
       "  'sadness',\n",
       "  'sadness',\n",
       "  'fear',\n",
       "  'sadness',\n",
       "  'fear',\n",
       "  'fear',\n",
       "  'fear',\n",
       "  'joy',\n",
       "  'fear',\n",
       "  'fear',\n",
       "  'joy',\n",
       "  'sadness',\n",
       "  'sadness',\n",
       "  'fear',\n",
       "  'fear',\n",
       "  'joy',\n",
       "  'joy',\n",
       "  'sadness',\n",
       "  'anger',\n",
       "  'sadness',\n",
       "  'joy',\n",
       "  'joy',\n",
       "  'fear',\n",
       "  'fear',\n",
       "  'joy',\n",
       "  'joy',\n",
       "  'joy',\n",
       "  'joy',\n",
       "  'joy',\n",
       "  'joy',\n",
       "  'fear',\n",
       "  'joy',\n",
       "  'anger',\n",
       "  'joy',\n",
       "  'joy',\n",
       "  'fear',\n",
       "  'anger',\n",
       "  'sadness',\n",
       "  'joy',\n",
       "  'fear',\n",
       "  'anger',\n",
       "  'joy',\n",
       "  'joy',\n",
       "  'sadness',\n",
       "  'joy',\n",
       "  'joy',\n",
       "  'joy',\n",
       "  'sadness',\n",
       "  'sadness',\n",
       "  'anger',\n",
       "  'joy',\n",
       "  'joy',\n",
       "  'joy',\n",
       "  'joy',\n",
       "  'anger',\n",
       "  'joy',\n",
       "  'joy',\n",
       "  'sadness',\n",
       "  'joy',\n",
       "  'joy',\n",
       "  'joy',\n",
       "  'joy',\n",
       "  'joy',\n",
       "  'sadness',\n",
       "  'joy',\n",
       "  'joy',\n",
       "  'joy',\n",
       "  'sadness',\n",
       "  'joy',\n",
       "  'joy',\n",
       "  'joy',\n",
       "  'joy',\n",
       "  'joy',\n",
       "  'sadness',\n",
       "  'sadness',\n",
       "  'sadness',\n",
       "  'sadness',\n",
       "  'joy',\n",
       "  'joy',\n",
       "  'joy',\n",
       "  'joy',\n",
       "  'anger',\n",
       "  'sadness',\n",
       "  'joy',\n",
       "  'joy',\n",
       "  'fear',\n",
       "  'anger',\n",
       "  'anger',\n",
       "  'anger',\n",
       "  'sadness',\n",
       "  'anger',\n",
       "  'sadness',\n",
       "  'joy',\n",
       "  'sadness',\n",
       "  'anger',\n",
       "  'sadness',\n",
       "  'sadness',\n",
       "  'sadness',\n",
       "  'sadness',\n",
       "  'joy',\n",
       "  'anger',\n",
       "  'sadness',\n",
       "  'joy',\n",
       "  'joy',\n",
       "  'joy',\n",
       "  'joy',\n",
       "  'anger',\n",
       "  'joy',\n",
       "  'anger',\n",
       "  'sadness',\n",
       "  'joy',\n",
       "  'sadness',\n",
       "  'sadness',\n",
       "  'sadness',\n",
       "  'anger',\n",
       "  'joy',\n",
       "  'sadness',\n",
       "  'sadness',\n",
       "  'sadness',\n",
       "  'fear',\n",
       "  'joy',\n",
       "  'anger',\n",
       "  'sadness',\n",
       "  'sadness',\n",
       "  'sadness',\n",
       "  'anger',\n",
       "  'sadness',\n",
       "  'fear',\n",
       "  'fear',\n",
       "  'sadness',\n",
       "  'anger',\n",
       "  'sadness',\n",
       "  'sadness',\n",
       "  'joy',\n",
       "  'joy',\n",
       "  'sadness',\n",
       "  'sadness',\n",
       "  'sadness',\n",
       "  'joy',\n",
       "  'joy',\n",
       "  'anger',\n",
       "  'joy',\n",
       "  'sadness',\n",
       "  'sadness',\n",
       "  'joy',\n",
       "  'joy',\n",
       "  'anger',\n",
       "  'joy',\n",
       "  'joy',\n",
       "  'anger',\n",
       "  'anger',\n",
       "  'anger',\n",
       "  'anger',\n",
       "  'anger',\n",
       "  'joy',\n",
       "  'joy',\n",
       "  'joy',\n",
       "  'anger',\n",
       "  'joy',\n",
       "  'joy',\n",
       "  'fear',\n",
       "  'joy',\n",
       "  'joy',\n",
       "  'joy',\n",
       "  'joy',\n",
       "  'joy',\n",
       "  'sadness',\n",
       "  'sadness',\n",
       "  'sadness',\n",
       "  'anger',\n",
       "  'joy',\n",
       "  'anger',\n",
       "  'anger',\n",
       "  'joy',\n",
       "  'joy',\n",
       "  'sadness',\n",
       "  'joy',\n",
       "  'fear',\n",
       "  'fear',\n",
       "  'joy',\n",
       "  'joy',\n",
       "  'joy',\n",
       "  'anger',\n",
       "  'joy',\n",
       "  'sadness',\n",
       "  'anger',\n",
       "  'anger',\n",
       "  'anger',\n",
       "  'fear',\n",
       "  'joy',\n",
       "  'joy',\n",
       "  'anger',\n",
       "  'joy',\n",
       "  'joy',\n",
       "  'anger',\n",
       "  'anger',\n",
       "  'sadness',\n",
       "  'fear',\n",
       "  'joy',\n",
       "  'joy',\n",
       "  'joy',\n",
       "  'joy',\n",
       "  'joy',\n",
       "  'joy',\n",
       "  'anger',\n",
       "  'joy',\n",
       "  'joy',\n",
       "  'joy',\n",
       "  'joy',\n",
       "  'sadness',\n",
       "  'anger',\n",
       "  'anger',\n",
       "  'sadness',\n",
       "  'joy',\n",
       "  'sadness',\n",
       "  'sadness',\n",
       "  'joy',\n",
       "  'joy',\n",
       "  'sadness',\n",
       "  'anger',\n",
       "  'joy',\n",
       "  'sadness',\n",
       "  'joy',\n",
       "  'fear',\n",
       "  'sadness',\n",
       "  'joy',\n",
       "  'sadness',\n",
       "  'joy',\n",
       "  'sadness',\n",
       "  'joy',\n",
       "  'sadness',\n",
       "  'sadness',\n",
       "  'joy',\n",
       "  'sadness',\n",
       "  'sadness',\n",
       "  'joy',\n",
       "  'joy',\n",
       "  'sadness',\n",
       "  'joy',\n",
       "  'sadness',\n",
       "  'sadness',\n",
       "  'anger',\n",
       "  'joy',\n",
       "  'joy',\n",
       "  'sadness',\n",
       "  'sadness',\n",
       "  'joy',\n",
       "  'joy',\n",
       "  'joy',\n",
       "  'sadness',\n",
       "  'joy',\n",
       "  'joy',\n",
       "  'joy',\n",
       "  'joy',\n",
       "  'joy',\n",
       "  'sadness',\n",
       "  'joy',\n",
       "  'anger',\n",
       "  'sadness',\n",
       "  'fear',\n",
       "  'sadness',\n",
       "  'anger',\n",
       "  'sadness',\n",
       "  'sadness',\n",
       "  'anger',\n",
       "  'joy',\n",
       "  'fear',\n",
       "  'sadness',\n",
       "  'sadness',\n",
       "  'sadness',\n",
       "  'fear',\n",
       "  'joy',\n",
       "  'joy',\n",
       "  'sadness',\n",
       "  'joy',\n",
       "  'sadness',\n",
       "  'fear',\n",
       "  'fear',\n",
       "  'joy',\n",
       "  'sadness',\n",
       "  'sadness',\n",
       "  'joy',\n",
       "  'sadness',\n",
       "  'sadness',\n",
       "  'sadness',\n",
       "  'anger',\n",
       "  'sadness',\n",
       "  'fear',\n",
       "  'fear',\n",
       "  'fear',\n",
       "  'joy',\n",
       "  'anger',\n",
       "  'joy',\n",
       "  'joy',\n",
       "  'anger',\n",
       "  'anger',\n",
       "  'sadness',\n",
       "  'joy',\n",
       "  'sadness',\n",
       "  'joy',\n",
       "  'joy',\n",
       "  'joy',\n",
       "  'sadness',\n",
       "  'joy',\n",
       "  'sadness',\n",
       "  'fear',\n",
       "  'sadness',\n",
       "  'sadness',\n",
       "  'sadness',\n",
       "  'joy',\n",
       "  'joy',\n",
       "  'anger',\n",
       "  'joy',\n",
       "  'anger',\n",
       "  'joy',\n",
       "  'sadness',\n",
       "  'sadness',\n",
       "  'sadness',\n",
       "  'fear',\n",
       "  'sadness',\n",
       "  'sadness',\n",
       "  'joy',\n",
       "  'joy',\n",
       "  'joy',\n",
       "  'joy',\n",
       "  'joy',\n",
       "  'fear',\n",
       "  'fear',\n",
       "  'joy',\n",
       "  'joy',\n",
       "  'fear',\n",
       "  'fear',\n",
       "  'joy',\n",
       "  'sadness',\n",
       "  'joy',\n",
       "  'joy',\n",
       "  'fear',\n",
       "  'anger',\n",
       "  'joy',\n",
       "  'anger',\n",
       "  'joy',\n",
       "  'anger',\n",
       "  'anger',\n",
       "  'joy',\n",
       "  'joy',\n",
       "  'sadness',\n",
       "  'joy',\n",
       "  'sadness',\n",
       "  'sadness',\n",
       "  'anger',\n",
       "  'sadness',\n",
       "  'sadness',\n",
       "  'fear',\n",
       "  'fear',\n",
       "  'anger',\n",
       "  'sadness',\n",
       "  'sadness',\n",
       "  'sadness',\n",
       "  'anger',\n",
       "  'sadness',\n",
       "  'sadness',\n",
       "  'sadness',\n",
       "  'joy',\n",
       "  'sadness',\n",
       "  'sadness',\n",
       "  'sadness',\n",
       "  'fear',\n",
       "  'fear',\n",
       "  'joy',\n",
       "  'sadness',\n",
       "  'sadness',\n",
       "  'joy',\n",
       "  'joy',\n",
       "  'anger',\n",
       "  'sadness',\n",
       "  'sadness',\n",
       "  'fear',\n",
       "  'joy',\n",
       "  'fear',\n",
       "  'anger',\n",
       "  'fear',\n",
       "  'sadness',\n",
       "  'joy',\n",
       "  'joy',\n",
       "  'joy',\n",
       "  'anger',\n",
       "  'anger',\n",
       "  'sadness',\n",
       "  'sadness',\n",
       "  'joy',\n",
       "  'anger',\n",
       "  'joy',\n",
       "  'joy',\n",
       "  'joy',\n",
       "  'joy',\n",
       "  'joy',\n",
       "  'joy',\n",
       "  'joy',\n",
       "  'anger',\n",
       "  'joy',\n",
       "  'sadness',\n",
       "  'joy',\n",
       "  'anger',\n",
       "  'sadness',\n",
       "  'fear',\n",
       "  'joy',\n",
       "  'anger',\n",
       "  'joy',\n",
       "  'joy',\n",
       "  'joy',\n",
       "  'joy',\n",
       "  'joy',\n",
       "  'anger',\n",
       "  'fear',\n",
       "  'anger',\n",
       "  'fear',\n",
       "  'joy',\n",
       "  'joy',\n",
       "  'joy',\n",
       "  'joy',\n",
       "  'sadness',\n",
       "  'joy',\n",
       "  'joy',\n",
       "  'sadness',\n",
       "  'joy',\n",
       "  'anger',\n",
       "  'joy',\n",
       "  'joy',\n",
       "  'joy',\n",
       "  'joy',\n",
       "  'anger',\n",
       "  'joy',\n",
       "  'sadness',\n",
       "  'joy',\n",
       "  'anger',\n",
       "  'joy',\n",
       "  'anger',\n",
       "  'joy',\n",
       "  'joy',\n",
       "  'anger',\n",
       "  'sadness',\n",
       "  'sadness',\n",
       "  'fear',\n",
       "  'anger',\n",
       "  'sadness',\n",
       "  'sadness',\n",
       "  'anger',\n",
       "  'fear',\n",
       "  'sadness',\n",
       "  'joy',\n",
       "  'fear',\n",
       "  'anger',\n",
       "  'anger',\n",
       "  'joy',\n",
       "  'anger',\n",
       "  'joy',\n",
       "  'joy',\n",
       "  'joy',\n",
       "  'joy',\n",
       "  'joy',\n",
       "  'joy',\n",
       "  'joy',\n",
       "  'joy',\n",
       "  'joy',\n",
       "  'sadness',\n",
       "  'joy',\n",
       "  'joy',\n",
       "  'joy',\n",
       "  'joy',\n",
       "  'anger',\n",
       "  'sadness',\n",
       "  'joy',\n",
       "  'joy',\n",
       "  'joy',\n",
       "  'joy',\n",
       "  'joy',\n",
       "  'joy',\n",
       "  'anger',\n",
       "  'anger',\n",
       "  'joy',\n",
       "  'sadness',\n",
       "  'joy',\n",
       "  'joy',\n",
       "  'joy',\n",
       "  'joy',\n",
       "  'anger',\n",
       "  'joy',\n",
       "  'joy',\n",
       "  'joy',\n",
       "  'anger',\n",
       "  'anger',\n",
       "  'fear',\n",
       "  'joy',\n",
       "  'joy',\n",
       "  'joy',\n",
       "  'joy',\n",
       "  'joy',\n",
       "  'joy',\n",
       "  'sadness',\n",
       "  'joy',\n",
       "  'fear',\n",
       "  'sadness',\n",
       "  'fear',\n",
       "  'sadness',\n",
       "  'sadness',\n",
       "  'joy',\n",
       "  'joy',\n",
       "  'joy',\n",
       "  'sadness',\n",
       "  'joy',\n",
       "  'joy',\n",
       "  'fear',\n",
       "  'anger',\n",
       "  'joy',\n",
       "  'joy',\n",
       "  'sadness',\n",
       "  'fear',\n",
       "  'sadness',\n",
       "  'sadness',\n",
       "  'joy',\n",
       "  'sadness',\n",
       "  'joy',\n",
       "  'joy',\n",
       "  'joy',\n",
       "  'joy',\n",
       "  'joy',\n",
       "  'joy',\n",
       "  'sadness',\n",
       "  'fear',\n",
       "  'joy',\n",
       "  'sadness',\n",
       "  'joy',\n",
       "  'joy',\n",
       "  'sadness',\n",
       "  'joy',\n",
       "  'joy',\n",
       "  'joy',\n",
       "  'fear',\n",
       "  'sadness',\n",
       "  'anger',\n",
       "  'joy',\n",
       "  'sadness',\n",
       "  'anger',\n",
       "  'joy',\n",
       "  'joy',\n",
       "  'joy',\n",
       "  'anger',\n",
       "  'joy',\n",
       "  'sadness',\n",
       "  'anger',\n",
       "  'joy',\n",
       "  'sadness',\n",
       "  'joy',\n",
       "  'anger',\n",
       "  'anger',\n",
       "  'sadness',\n",
       "  'anger',\n",
       "  'joy',\n",
       "  'anger',\n",
       "  'joy',\n",
       "  'sadness',\n",
       "  'anger',\n",
       "  'sadness',\n",
       "  'joy',\n",
       "  'anger',\n",
       "  'joy',\n",
       "  'joy',\n",
       "  'sadness',\n",
       "  'sadness',\n",
       "  'joy',\n",
       "  'joy',\n",
       "  'joy',\n",
       "  'sadness',\n",
       "  'anger',\n",
       "  'joy',\n",
       "  'anger',\n",
       "  'anger',\n",
       "  'fear',\n",
       "  'sadness',\n",
       "  'anger',\n",
       "  'joy',\n",
       "  'joy',\n",
       "  'joy',\n",
       "  'sadness',\n",
       "  'joy',\n",
       "  'joy',\n",
       "  'joy',\n",
       "  'sadness',\n",
       "  'anger',\n",
       "  'joy',\n",
       "  'sadness',\n",
       "  'joy',\n",
       "  'sadness',\n",
       "  'anger',\n",
       "  'anger',\n",
       "  'anger',\n",
       "  'fear',\n",
       "  'joy',\n",
       "  'joy',\n",
       "  'joy',\n",
       "  'joy',\n",
       "  'joy',\n",
       "  'sadness',\n",
       "  'sadness',\n",
       "  'sadness',\n",
       "  'joy',\n",
       "  'joy',\n",
       "  'anger',\n",
       "  'anger',\n",
       "  'anger',\n",
       "  'joy',\n",
       "  'joy',\n",
       "  'fear',\n",
       "  'sadness',\n",
       "  'sadness',\n",
       "  'sadness',\n",
       "  'joy',\n",
       "  'joy',\n",
       "  'sadness',\n",
       "  'anger',\n",
       "  'anger',\n",
       "  'joy',\n",
       "  'anger',\n",
       "  'joy',\n",
       "  'fear',\n",
       "  'joy',\n",
       "  'anger',\n",
       "  'sadness',\n",
       "  'joy',\n",
       "  'joy',\n",
       "  'joy',\n",
       "  'joy',\n",
       "  'sadness',\n",
       "  'sadness',\n",
       "  'joy',\n",
       "  'anger',\n",
       "  'joy',\n",
       "  'anger',\n",
       "  'joy',\n",
       "  'joy',\n",
       "  'joy',\n",
       "  'anger',\n",
       "  'anger',\n",
       "  'joy',\n",
       "  'joy',\n",
       "  'anger',\n",
       "  'anger',\n",
       "  'anger',\n",
       "  'joy',\n",
       "  'joy',\n",
       "  'anger',\n",
       "  'joy',\n",
       "  'anger',\n",
       "  'sadness',\n",
       "  'fear',\n",
       "  'fear',\n",
       "  'joy',\n",
       "  'fear',\n",
       "  'sadness',\n",
       "  'joy',\n",
       "  'fear',\n",
       "  'fear',\n",
       "  'anger',\n",
       "  'fear',\n",
       "  'anger',\n",
       "  'anger',\n",
       "  'fear',\n",
       "  'joy',\n",
       "  'anger',\n",
       "  'anger',\n",
       "  'joy',\n",
       "  'fear',\n",
       "  'joy',\n",
       "  'anger',\n",
       "  'joy',\n",
       "  'joy',\n",
       "  'joy',\n",
       "  'joy',\n",
       "  'fear',\n",
       "  'sadness',\n",
       "  'fear',\n",
       "  'anger',\n",
       "  'joy',\n",
       "  'joy',\n",
       "  'anger',\n",
       "  'joy',\n",
       "  'joy',\n",
       "  'joy',\n",
       "  'anger',\n",
       "  'fear',\n",
       "  'fear',\n",
       "  'sadness',\n",
       "  'joy',\n",
       "  'fear',\n",
       "  'fear',\n",
       "  'anger',\n",
       "  'anger',\n",
       "  'joy',\n",
       "  'sadness',\n",
       "  'joy',\n",
       "  'anger',\n",
       "  'joy',\n",
       "  'sadness',\n",
       "  'joy',\n",
       "  'fear',\n",
       "  'fear',\n",
       "  'joy',\n",
       "  'joy',\n",
       "  'joy',\n",
       "  'anger',\n",
       "  'anger',\n",
       "  'anger',\n",
       "  'anger',\n",
       "  'joy',\n",
       "  'anger',\n",
       "  'fear',\n",
       "  'joy',\n",
       "  'anger',\n",
       "  'anger',\n",
       "  'sadness',\n",
       "  'anger',\n",
       "  'fear',\n",
       "  'sadness',\n",
       "  'anger',\n",
       "  'fear',\n",
       "  'sadness',\n",
       "  'joy',\n",
       "  'anger',\n",
       "  'anger',\n",
       "  'anger',\n",
       "  'anger',\n",
       "  'anger',\n",
       "  'anger',\n",
       "  'anger',\n",
       "  'fear',\n",
       "  'sadness',\n",
       "  'sadness',\n",
       "  'anger',\n",
       "  'joy',\n",
       "  'fear',\n",
       "  'joy',\n",
       "  'fear',\n",
       "  'fear',\n",
       "  'anger',\n",
       "  'joy',\n",
       "  'joy',\n",
       "  'fear',\n",
       "  'anger',\n",
       "  'joy',\n",
       "  'fear',\n",
       "  'joy',\n",
       "  'fear',\n",
       "  'sadness',\n",
       "  'fear',\n",
       "  'fear',\n",
       "  'fear',\n",
       "  'joy',\n",
       "  'joy',\n",
       "  'joy',\n",
       "  'joy',\n",
       "  'sadness',\n",
       "  'sadness',\n",
       "  'joy',\n",
       "  'joy',\n",
       "  'joy',\n",
       "  'fear',\n",
       "  'fear',\n",
       "  'sadness',\n",
       "  'joy',\n",
       "  'fear',\n",
       "  'joy',\n",
       "  'joy',\n",
       "  'joy',\n",
       "  'joy',\n",
       "  'anger',\n",
       "  'joy',\n",
       "  'anger',\n",
       "  'sadness',\n",
       "  'joy',\n",
       "  'joy',\n",
       "  'joy',\n",
       "  'joy',\n",
       "  'joy',\n",
       "  'joy',\n",
       "  'joy',\n",
       "  'joy',\n",
       "  'sadness',\n",
       "  'joy',\n",
       "  'fear',\n",
       "  'fear',\n",
       "  'joy',\n",
       "  'anger',\n",
       "  'fear',\n",
       "  'anger',\n",
       "  'sadness',\n",
       "  'joy',\n",
       "  'anger',\n",
       "  'sadness',\n",
       "  'anger',\n",
       "  'joy',\n",
       "  'anger',\n",
       "  'sadness',\n",
       "  'anger',\n",
       "  'joy',\n",
       "  'sadness',\n",
       "  'sadness',\n",
       "  'anger',\n",
       "  'joy',\n",
       "  'sadness',\n",
       "  'fear',\n",
       "  'sadness',\n",
       "  'fear',\n",
       "  'sadness',\n",
       "  'anger',\n",
       "  'anger',\n",
       "  'sadness',\n",
       "  'sadness',\n",
       "  'fear',\n",
       "  'joy',\n",
       "  'sadness',\n",
       "  'joy',\n",
       "  'anger',\n",
       "  'sadness',\n",
       "  'fear',\n",
       "  'sadness',\n",
       "  'fear',\n",
       "  'fear',\n",
       "  'joy',\n",
       "  'fear',\n",
       "  'sadness',\n",
       "  'sadness',\n",
       "  'sadness',\n",
       "  'joy',\n",
       "  'joy',\n",
       "  'joy',\n",
       "  'sadness',\n",
       "  'joy',\n",
       "  ...]}"
      ]
     },
     "execution_count": 8,
     "metadata": {},
     "output_type": "execute_result"
    }
   ],
   "source": [
    "# Accuracies for each tgt_language \n",
    "tgt_lang_list = [\"ja\", \"de\", \"fr\", \"zh\", \"ar\", \"ko\"]\n",
    "file_path = \"/home/sumire/thesis/LLM_Contextual_Prompt_MT/data/iwslt_hf/\"\n",
    "\n",
    "lang_accuracies= {}\n",
    "for tgt_lang in tgt_lang_list:\n",
    "    data_files = { \"test\": f\"{file_path}ted_en-{tgt_lang}\"}\n",
    "    dataset[tgt_lang] = load_dataset(\"json\", data_files=data_files)\n",
    "\n",
    "    pred_list = {}\n",
    "    for lang in [\"en\", tgt_lang]:\n",
    "        lang_pred_list = []\n",
    "        print (lang)\n",
    "        inputs = [sent for doc in dataset[tgt_lang][\"test\"][\"doc\"] for sent in doc[lang]]\n",
    "        tokenized_inputs = tokenizer(inputs, truncation=True, padding=True, return_tensors=\"pt\")\n",
    "        tokenized_inputs[\"input_ids\"]\n",
    "        with torch.no_grad():\n",
    "            logits = model(**tokenized_inputs).logits\n",
    "        for inst_logits in logits:\n",
    "            predicted_class_id = inst_logits.argmax(dim=-1).item()\n",
    "            #print (lang, \"predicted Emotion\")\n",
    "            lang_pred_list.append(model.config.id2label[predicted_class_id])\n",
    "        pred_list[tgt_lang] = lang_pred_list\n",
    "\n",
    "pred_list"
   ]
  },
  {
   "cell_type": "code",
   "execution_count": null,
   "id": "878c2638",
   "metadata": {},
   "outputs": [],
   "source": [
    "pred_dict = pred_list\n"
   ]
  },
  {
   "cell_type": "markdown",
   "id": "fdea9ec2",
   "metadata": {},
   "source": [
    "# Evalluate emotion label on the predicted translation"
   ]
  },
  {
   "cell_type": "code",
   "execution_count": 7,
   "id": "1c822f09",
   "metadata": {},
   "outputs": [],
   "source": [
    "def preprocess_function(data):\n",
    "    inputs = [sent for doc in data[\"doc\"] for sent in doc[\"en\"]][:50]\n",
    "    #inputs = [kshot + sent + ' = ' for doc in data[\"doc\"] for sent in doc[\"en\"] ][:50]\n",
    "    return tokenizer(inputs, truncation=True, padding=True, return_tensors=\"pt\")"
   ]
  },
  {
   "cell_type": "code",
   "execution_count": 7,
   "id": "69a4b950",
   "metadata": {},
   "outputs": [
    {
     "data": {
      "application/vnd.jupyter.widget-view+json": {
       "model_id": "480915f27642463784171fbef0302fd3",
       "version_major": 2,
       "version_minor": 0
      },
      "text/plain": [
       "  0%|          | 0/1 [00:00<?, ?ba/s]"
      ]
     },
     "metadata": {},
     "output_type": "display_data"
    },
    {
     "name": "stderr",
     "output_type": "stream",
     "text": [
      "Asking to truncate to max_length but no maximum length is provided and the model has no predefined maximum length. Default to no truncation.\n"
     ]
    }
   ],
   "source": [
    "tokenized_dataset = dataset.map(preprocess_function, batched=True, remove_columns=dataset[\"test\"].column_names,)\n",
    "data_collator = DataCollatorWithPadding(tokenizer=tokenizer)"
   ]
  },
  {
   "cell_type": "code",
   "execution_count": 10,
   "id": "106b021c",
   "metadata": {
    "scrolled": false
   },
   "outputs": [
    {
     "name": "stderr",
     "output_type": "stream",
     "text": [
      "Using custom data configuration default-17fa6efc908acb86\n",
      "Found cached dataset json (/home/sumire/.cache/huggingface/datasets/json/default-17fa6efc908acb86/0.0.0/e6070c77f18f01a5ad4551a8b7edfba20b8438b7cad4d94e6ad9378022ce4aab)\n"
     ]
    },
    {
     "data": {
      "application/vnd.jupyter.widget-view+json": {
       "model_id": "185b34797c6142ff962278b8acb396f9",
       "version_major": 2,
       "version_minor": 0
      },
      "text/plain": [
       "  0%|          | 0/1 [00:00<?, ?it/s]"
      ]
     },
     "metadata": {},
     "output_type": "display_data"
    },
    {
     "name": "stdout",
     "output_type": "stream",
     "text": [
      "en\n",
      "ja\n"
     ]
    },
    {
     "name": "stderr",
     "output_type": "stream",
     "text": [
      "Using custom data configuration default-e4b60b9fd844da79\n",
      "Found cached dataset json (/home/sumire/.cache/huggingface/datasets/json/default-e4b60b9fd844da79/0.0.0/e6070c77f18f01a5ad4551a8b7edfba20b8438b7cad4d94e6ad9378022ce4aab)\n"
     ]
    },
    {
     "data": {
      "application/vnd.jupyter.widget-view+json": {
       "model_id": "55bc3913e85949c0969bf0acd76592c3",
       "version_major": 2,
       "version_minor": 0
      },
      "text/plain": [
       "  0%|          | 0/1 [00:00<?, ?it/s]"
      ]
     },
     "metadata": {},
     "output_type": "display_data"
    },
    {
     "name": "stdout",
     "output_type": "stream",
     "text": [
      "en\n",
      "de\n"
     ]
    },
    {
     "name": "stderr",
     "output_type": "stream",
     "text": [
      "Using custom data configuration default-911eedd4b6eede3d\n"
     ]
    },
    {
     "name": "stdout",
     "output_type": "stream",
     "text": [
      "Downloading and preparing dataset json/default to /home/sumire/.cache/huggingface/datasets/json/default-911eedd4b6eede3d/0.0.0/e6070c77f18f01a5ad4551a8b7edfba20b8438b7cad4d94e6ad9378022ce4aab...\n"
     ]
    },
    {
     "data": {
      "application/vnd.jupyter.widget-view+json": {
       "model_id": "53ea30f70e5e44d4a5ae7e6a14cbcd92",
       "version_major": 2,
       "version_minor": 0
      },
      "text/plain": [
       "Downloading data files:   0%|          | 0/1 [00:00<?, ?it/s]"
      ]
     },
     "metadata": {},
     "output_type": "display_data"
    },
    {
     "data": {
      "application/vnd.jupyter.widget-view+json": {
       "model_id": "5a786fe8ade744c0bb926c10dff0bee8",
       "version_major": 2,
       "version_minor": 0
      },
      "text/plain": [
       "Extracting data files:   0%|          | 0/1 [00:00<?, ?it/s]"
      ]
     },
     "metadata": {},
     "output_type": "display_data"
    },
    {
     "data": {
      "application/vnd.jupyter.widget-view+json": {
       "model_id": "",
       "version_major": 2,
       "version_minor": 0
      },
      "text/plain": [
       "Generating test split: 0 examples [00:00, ? examples/s]"
      ]
     },
     "metadata": {},
     "output_type": "display_data"
    },
    {
     "name": "stdout",
     "output_type": "stream",
     "text": [
      "Dataset json downloaded and prepared to /home/sumire/.cache/huggingface/datasets/json/default-911eedd4b6eede3d/0.0.0/e6070c77f18f01a5ad4551a8b7edfba20b8438b7cad4d94e6ad9378022ce4aab. Subsequent calls will reuse this data.\n"
     ]
    },
    {
     "data": {
      "application/vnd.jupyter.widget-view+json": {
       "model_id": "7766fda8eaab4f5cb5cf06ed72321cbd",
       "version_major": 2,
       "version_minor": 0
      },
      "text/plain": [
       "  0%|          | 0/1 [00:00<?, ?it/s]"
      ]
     },
     "metadata": {},
     "output_type": "display_data"
    },
    {
     "name": "stdout",
     "output_type": "stream",
     "text": [
      "en\n",
      "fr\n"
     ]
    },
    {
     "name": "stderr",
     "output_type": "stream",
     "text": [
      "Using custom data configuration default-cc3d46cbb1e70fd4\n"
     ]
    },
    {
     "name": "stdout",
     "output_type": "stream",
     "text": [
      "Downloading and preparing dataset json/default to /home/sumire/.cache/huggingface/datasets/json/default-cc3d46cbb1e70fd4/0.0.0/e6070c77f18f01a5ad4551a8b7edfba20b8438b7cad4d94e6ad9378022ce4aab...\n"
     ]
    },
    {
     "data": {
      "application/vnd.jupyter.widget-view+json": {
       "model_id": "bf0cb8f197ff4a5c88f12bc5fdc869ca",
       "version_major": 2,
       "version_minor": 0
      },
      "text/plain": [
       "Downloading data files:   0%|          | 0/1 [00:00<?, ?it/s]"
      ]
     },
     "metadata": {},
     "output_type": "display_data"
    },
    {
     "data": {
      "application/vnd.jupyter.widget-view+json": {
       "model_id": "bb23cba2700049fcb75c27c50c1ecf11",
       "version_major": 2,
       "version_minor": 0
      },
      "text/plain": [
       "Extracting data files:   0%|          | 0/1 [00:00<?, ?it/s]"
      ]
     },
     "metadata": {},
     "output_type": "display_data"
    },
    {
     "data": {
      "application/vnd.jupyter.widget-view+json": {
       "model_id": "",
       "version_major": 2,
       "version_minor": 0
      },
      "text/plain": [
       "Generating test split: 0 examples [00:00, ? examples/s]"
      ]
     },
     "metadata": {},
     "output_type": "display_data"
    },
    {
     "name": "stdout",
     "output_type": "stream",
     "text": [
      "Dataset json downloaded and prepared to /home/sumire/.cache/huggingface/datasets/json/default-cc3d46cbb1e70fd4/0.0.0/e6070c77f18f01a5ad4551a8b7edfba20b8438b7cad4d94e6ad9378022ce4aab. Subsequent calls will reuse this data.\n"
     ]
    },
    {
     "data": {
      "application/vnd.jupyter.widget-view+json": {
       "model_id": "761840deda954515aa8b643b40cd8df4",
       "version_major": 2,
       "version_minor": 0
      },
      "text/plain": [
       "  0%|          | 0/1 [00:00<?, ?it/s]"
      ]
     },
     "metadata": {},
     "output_type": "display_data"
    },
    {
     "name": "stdout",
     "output_type": "stream",
     "text": [
      "en\n",
      "zh\n"
     ]
    },
    {
     "name": "stderr",
     "output_type": "stream",
     "text": [
      "Using custom data configuration default-94e223f2f26d1b2a\n",
      "Found cached dataset json (/home/sumire/.cache/huggingface/datasets/json/default-94e223f2f26d1b2a/0.0.0/e6070c77f18f01a5ad4551a8b7edfba20b8438b7cad4d94e6ad9378022ce4aab)\n"
     ]
    },
    {
     "data": {
      "application/vnd.jupyter.widget-view+json": {
       "model_id": "2f5b7abac5b94b13bf55014f7aee281d",
       "version_major": 2,
       "version_minor": 0
      },
      "text/plain": [
       "  0%|          | 0/1 [00:00<?, ?it/s]"
      ]
     },
     "metadata": {},
     "output_type": "display_data"
    },
    {
     "name": "stdout",
     "output_type": "stream",
     "text": [
      "en\n",
      "ar\n"
     ]
    },
    {
     "name": "stderr",
     "output_type": "stream",
     "text": [
      "Using custom data configuration default-3a9183ebb6967fe8\n"
     ]
    },
    {
     "name": "stdout",
     "output_type": "stream",
     "text": [
      "Downloading and preparing dataset json/default to /home/sumire/.cache/huggingface/datasets/json/default-3a9183ebb6967fe8/0.0.0/e6070c77f18f01a5ad4551a8b7edfba20b8438b7cad4d94e6ad9378022ce4aab...\n"
     ]
    },
    {
     "data": {
      "application/vnd.jupyter.widget-view+json": {
       "model_id": "351d3f62e2344f6ca15a14d034fd014c",
       "version_major": 2,
       "version_minor": 0
      },
      "text/plain": [
       "Downloading data files:   0%|          | 0/1 [00:00<?, ?it/s]"
      ]
     },
     "metadata": {},
     "output_type": "display_data"
    },
    {
     "data": {
      "application/vnd.jupyter.widget-view+json": {
       "model_id": "565c54f0f8364769bff57b50ff1cbcd8",
       "version_major": 2,
       "version_minor": 0
      },
      "text/plain": [
       "Extracting data files:   0%|          | 0/1 [00:00<?, ?it/s]"
      ]
     },
     "metadata": {},
     "output_type": "display_data"
    },
    {
     "data": {
      "application/vnd.jupyter.widget-view+json": {
       "model_id": "",
       "version_major": 2,
       "version_minor": 0
      },
      "text/plain": [
       "Generating test split: 0 examples [00:00, ? examples/s]"
      ]
     },
     "metadata": {},
     "output_type": "display_data"
    },
    {
     "name": "stdout",
     "output_type": "stream",
     "text": [
      "Dataset json downloaded and prepared to /home/sumire/.cache/huggingface/datasets/json/default-3a9183ebb6967fe8/0.0.0/e6070c77f18f01a5ad4551a8b7edfba20b8438b7cad4d94e6ad9378022ce4aab. Subsequent calls will reuse this data.\n"
     ]
    },
    {
     "data": {
      "application/vnd.jupyter.widget-view+json": {
       "model_id": "ec77f3f5b754403eb140e4e165bbc949",
       "version_major": 2,
       "version_minor": 0
      },
      "text/plain": [
       "  0%|          | 0/1 [00:00<?, ?it/s]"
      ]
     },
     "metadata": {},
     "output_type": "display_data"
    },
    {
     "name": "stdout",
     "output_type": "stream",
     "text": [
      "en\n",
      "ko\n"
     ]
    },
    {
     "data": {
      "text/plain": [
       "{'ja': 0.6475977653631285,\n",
       " 'de': 0.6654374790479383,\n",
       " 'fr': 0.6930780235501266,\n",
       " 'zh': 0.6496180670873464,\n",
       " 'ar': 0.5569396979384853,\n",
       " 'ko': 0.6288636869023794}"
      ]
     },
     "execution_count": 10,
     "metadata": {},
     "output_type": "execute_result"
    }
   ],
   "source": [
    "# Accuracies for each tgt_language \n",
    "tgt_lang_list = [\"ja\", \"de\", \"fr\", \"zh\", \"ar\", \"ko\"]\n",
    "file_path = \"/home/sumire/thesis/LLM_Contextual_Prompt_MT/data/iwslt_hf/\"\n",
    "\n",
    "lang_accuracies= {}\n",
    "for tgt_lang in tgt_lang_list:\n",
    "    data_files = { \"test\": f\"{file_path}ted_en-{tgt_lang}\"}\n",
    "    dataset[tgt_lang] = load_dataset(\"json\", data_files=data_files)\n",
    "\n",
    "    pred_list = []\n",
    "    for lang in [\"en\", tgt_lang]:\n",
    "        lang_pred_list = []\n",
    "        print (lang)\n",
    "        inputs = [sent for doc in dataset[tgt_lang][\"test\"][\"doc\"] for sent in doc[lang]]\n",
    "        tokenized_inputs = tokenizer(inputs, truncation=True, padding=True, return_tensors=\"pt\")\n",
    "        tokenized_inputs[\"input_ids\"]\n",
    "        with torch.no_grad():\n",
    "            logits = model(**tokenized_inputs).logits\n",
    "        for inst_logits in logits:\n",
    "            predicted_class_id = inst_logits.argmax(dim=-1).item()\n",
    "            #print (lang, \"predicted Emotion\")\n",
    "            lang_pred_list.append(model.config.id2label[predicted_class_id])\n",
    "        pred_list.append(lang_pred_list)\n",
    "\n",
    "    true_false = []\n",
    "    for en_pred, tgt_pred in zip(pred_list[0], pred_list[1]):\n",
    "        #print (en_pred, ja_pred)\n",
    "        if en_pred != tgt_pred:\n",
    "            true_false.append(False)\n",
    "        else:\n",
    "            true_false.append(True)\n",
    "\n",
    "    lang_accuracies[tgt_lang] = true_false.count(True)/len(true_false)\n",
    "lang_accuracies "
   ]
  },
  {
   "cell_type": "code",
   "execution_count": null,
   "id": "c62412c0",
   "metadata": {},
   "outputs": [],
   "source": [
    "# Inference\n",
    "with torch.no_grad():\n",
    "    logits = model(**tokenized_inputs).logits\n",
    "for sent_logits in logits:\n",
    "    predicted_class_id = sent_logits.argmax(dim=-1).item()\n",
    "    \n",
    "\n",
    "    "
   ]
  },
  {
   "cell_type": "code",
   "execution_count": 16,
   "id": "23434889",
   "metadata": {},
   "outputs": [
    {
     "data": {
      "application/vnd.jupyter.widget-view+json": {
       "model_id": "4cbf1a81a42e4d019a9c0fb78eda607e",
       "version_major": 2,
       "version_minor": 0
      },
      "text/plain": [
       "Downloading builder script:   0%|          | 0.00/6.77k [00:00<?, ?B/s]"
      ]
     },
     "metadata": {},
     "output_type": "display_data"
    }
   ],
   "source": [
    "accuracy = evaluate.load(\"accuracy\")\n",
    "f1 = evaluate.load(\"f1\")"
   ]
  },
  {
   "cell_type": "code",
   "execution_count": 17,
   "id": "60468093",
   "metadata": {},
   "outputs": [],
   "source": [
    "def compute_metrics(eval_preds):\n",
    "    \n",
    "    preds, labels, input_ids = eval_preds\n",
    "    \n",
    "    accuracy = evaluate.load(\"accuracy\")\n",
    "    f1 = evaluate.load(\"f1\")\n",
    "    predictions, labels = eval_pred\n",
    "    predictions = np.argmax(predictions, axis=1)\n",
    "    result = {}\n",
    "    result[\"accuracy\"] = accuracy.compute(predictions=predictions, references=labels)\n",
    "    result[\"f1\"] = f1.compute(predictions=predictions, references=labels)\n",
    "    print (result)\n",
    "    return result"
   ]
  },
  {
   "cell_type": "code",
   "execution_count": 32,
   "id": "a77ad49a",
   "metadata": {},
   "outputs": [
    {
     "name": "stderr",
     "output_type": "stream",
     "text": [
      "PyTorch: setting up devices\n",
      "The default value for the training argument `--report_to` will change in v5 (from all installed integrations to none). In v5, you will need to use `--report_to all` to get the same behavior as now. You should start updating your code and make this info disappear :-).\n",
      "***** Running Prediction *****\n",
      "  Num examples = 50\n",
      "  Batch size = 128\n"
     ]
    },
    {
     "data": {
      "text/html": [],
      "text/plain": [
       "<IPython.core.display.HTML object>"
      ]
     },
     "metadata": {},
     "output_type": "display_data"
    }
   ],
   "source": [
    "output_dir=\"./results/xlm-emo\"\n",
    "training_args = TrainingArguments(\n",
    "    output_dir=output_dir,\n",
    "    #learning_rate=2e-5,\n",
    "    #per_device_train_batch_size=16,\n",
    "    per_device_eval_batch_size=16,\n",
    "    #num_train_epochs=2,\n",
    "    #weight_decay=0.01,\n",
    "    evaluation_strategy=\"epoch\",\n",
    "    save_strategy=\"epoch\",\n",
    "    #load_best_model_at_end=True,\n",
    "    do_eval=True,\n",
    ")\n",
    "\n",
    "trainer = Trainer(\n",
    "    model=model,\n",
    "    args=training_args,\n",
    "    #train_dataset=tokenized_imdb[\"train\"],\n",
    "    eval_dataset=tokenized_dataset[\"test\"],\n",
    "    tokenizer=tokenizer,\n",
    "    data_collator=data_collator,\n",
    "    compute_metrics=compute_metrics,\n",
    ")\n",
    "\n",
    "eval_preds = trainer.predict(tokenized_dataset[\"test\"])\n",
    "inputs = [sent for doc in dataset[\"test\"][\"doc\"] for sent in doc[\"en\"]]\n",
    "\n",
    "\n",
    "with open(output_dir+'/emotion_pred.txt','w', encoding='utf8') as wf:\n",
    "    for ip, pred in zip(inputs, eval_preds[0]):\n",
    "        predicted_class_id = pred.argmax(axis=-1).item()\n",
    "        #print (lang, \"predicted Emotion\")\n",
    "        label = model.config.id2label[predicted_class_id]\n",
    "        wf.write(ip.strip()+', ')\n",
    "        wf.write(label +'\\n')\n"
   ]
  }
 ],
 "metadata": {
  "kernelspec": {
   "display_name": "Python 3 (ipykernel)",
   "language": "python",
   "name": "python3"
  },
  "language_info": {
   "codemirror_mode": {
    "name": "ipython",
    "version": 3
   },
   "file_extension": ".py",
   "mimetype": "text/x-python",
   "name": "python",
   "nbconvert_exporter": "python",
   "pygments_lexer": "ipython3",
   "version": "3.8.0"
  }
 },
 "nbformat": 4,
 "nbformat_minor": 5
}
