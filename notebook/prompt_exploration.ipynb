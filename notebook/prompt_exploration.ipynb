{
 "cells": [
  {
   "cell_type": "code",
   "execution_count": 1,
   "id": "9aec7197",
   "metadata": {},
   "outputs": [],
   "source": [
    "from text_generation import Client\n",
    "import os"
   ]
  },
  {
   "cell_type": "code",
   "execution_count": 2,
   "id": "f5af381b",
   "metadata": {},
   "outputs": [
    {
     "name": "stdout",
     "output_type": "stream",
     "text": [
      "# ~/.bashrc: executed by bash(1) for non-login shells.\r\n",
      "# see /usr/share/doc/bash/examples/startup-files (in the package bash-doc)\r\n",
      "# for examples\r\n",
      "\r\n",
      "# If not running interactively, don't do anything\r\n",
      "case $- in\r\n",
      "    *i*) ;;\r\n",
      "      *) return;;\r\n",
      "esac\r\n",
      "\r\n",
      "# don't put duplicate lines or lines starting with space in the history.\r\n",
      "# See bash(1) for more options\r\n",
      "HISTCONTROL=ignoreboth\r\n",
      "\r\n",
      "# append to the history file, don't overwrite it\r\n",
      "shopt -s histappend\r\n",
      "\r\n",
      "# for setting history length see HISTSIZE and HISTFILESIZE in bash(1)\r\n",
      "HISTSIZE=1000\r\n",
      "HISTFILESIZE=2000\r\n",
      "\r\n",
      "# check the window size after each command and, if necessary,\r\n",
      "# update the values of LINES and COLUMNS.\r\n",
      "shopt -s checkwinsize\r\n",
      "\r\n",
      "# If set, the pattern \"**\" used in a pathname expansion context will\r\n",
      "# match all files and zero or more directories and subdirectories.\r\n",
      "#shopt -s globstar\r\n",
      "\r\n",
      "# make less more friendly for non-text input files, see lesspipe(1)\r\n",
      "[ -x /usr/bin/lesspipe ] && eval \"$(SHELL=/bin/sh lesspipe)\"\r\n",
      "\r\n",
      "# set variable identifying the chroot you work in (used in the prompt below)\r\n",
      "if [ -z \"${debian_chroot:-}\" ] && [ -r /etc/debian_chroot ]; then\r\n",
      "    debian_chroot=$(cat /etc/debian_chroot)\r\n",
      "fi\r\n",
      "\r\n",
      "# set a fancy prompt (non-color, unless we know we \"want\" color)\r\n",
      "case \"$TERM\" in\r\n",
      "    xterm-color|*-256color) color_prompt=yes;;\r\n",
      "esac\r\n",
      "\r\n",
      "# uncomment for a colored prompt, if the terminal has the capability; turned\r\n",
      "# off by default to not distract the user: the focus in a terminal window\r\n",
      "# should be on the output of commands, not on the prompt\r\n",
      "#force_color_prompt=yes\r\n",
      "\r\n",
      "if [ -n \"$force_color_prompt\" ]; then\r\n",
      "    if [ -x /usr/bin/tput ] && tput setaf 1 >&/dev/null; then\r\n",
      "\t# We have color support; assume it's compliant with Ecma-48\r\n",
      "\t# (ISO/IEC-6429). (Lack of such support is extremely rare, and such\r\n",
      "\t# a case would tend to support setf rather than setaf.)\r\n",
      "\tcolor_prompt=yes\r\n",
      "    else\r\n",
      "\tcolor_prompt=\r\n",
      "    fi\r\n",
      "fi\r\n",
      "\r\n",
      "if [ \"$color_prompt\" = yes ]; then\r\n",
      "    PS1='${debian_chroot:+($debian_chroot)}\\[\\033[01;32m\\]\\u@\\h\\[\\033[00m\\]:\\[\\033[01;34m\\]\\w\\[\\033[00m\\]\\$ '\r\n",
      "else\r\n",
      "    PS1='${debian_chroot:+($debian_chroot)}\\u@\\h:\\w\\$ '\r\n",
      "fi\r\n",
      "unset color_prompt force_color_prompt\r\n",
      "\r\n",
      "# If this is an xterm set the title to user@host:dir\r\n",
      "case \"$TERM\" in\r\n",
      "xterm*|rxvt*)\r\n",
      "    PS1=\"\\[\\e]0;${debian_chroot:+($debian_chroot)}\\u@\\h: \\w\\a\\]$PS1\"\r\n",
      "    ;;\r\n",
      "*)\r\n",
      "    ;;\r\n",
      "esac\r\n",
      "\r\n",
      "# enable color support of ls and also add handy aliases\r\n",
      "if [ -x /usr/bin/dircolors ]; then\r\n",
      "    test -r ~/.dircolors && eval \"$(dircolors -b ~/.dircolors)\" || eval \"$(dircolors -b)\"\r\n",
      "    alias ls='ls --color=auto'\r\n",
      "    #alias dir='dir --color=auto'\r\n",
      "    #alias vdir='vdir --color=auto'\r\n",
      "\r\n",
      "    alias grep='grep --color=auto'\r\n",
      "    alias fgrep='fgrep --color=auto'\r\n",
      "    alias egrep='egrep --color=auto'\r\n",
      "fi\r\n",
      "\r\n",
      "# colored GCC warnings and errors\r\n",
      "#export GCC_COLORS='error=01;31:warning=01;35:note=01;36:caret=01;32:locus=01:quote=01'\r\n",
      "\r\n",
      "# some more ls aliases\r\n",
      "alias ll='ls -alF'\r\n",
      "alias la='ls -A'\r\n",
      "alias l='ls -CF'\r\n",
      "\r\n",
      "# Add an \"alert\" alias for long running commands.  Use like so:\r\n",
      "#   sleep 10; alert\r\n",
      "alias alert='notify-send --urgency=low -i \"$([ $? = 0 ] && echo terminal || echo error)\" \"$(history|tail -n1|sed -e '\\''s/^\\s*[0-9]\\+\\s*//;s/[;&|]\\s*alert$//'\\'')\"'\r\n",
      "\r\n",
      "# Alias definitions.\r\n",
      "# You may want to put all your additions into a separate file like\r\n",
      "# ~/.bash_aliases, instead of adding them here directly.\r\n",
      "# See /usr/share/doc/bash-doc/examples in the bash-doc package.\r\n",
      "\r\n",
      "if [ -f ~/.bash_aliases ]; then\r\n",
      "    . ~/.bash_aliases\r\n",
      "fi\r\n",
      "\r\n",
      "# enable programmable completion features (you don't need to enable\r\n",
      "# this, if it's already enabled in /etc/bash.bashrc and /etc/profile\r\n",
      "# sources /etc/bash.bashrc).\r\n",
      "if ! shopt -oq posix; then\r\n",
      "  if [ -f /usr/share/bash-completion/bash_completion ]; then\r\n",
      "    . /usr/share/bash-completion/bash_completion\r\n",
      "  elif [ -f /etc/bash_completion ]; then\r\n",
      "    . /etc/bash_completion\r\n",
      "  fi\r\n",
      "fi\r\n",
      "\r\n",
      "# >>> conda initialize >>>\r\n",
      "# !! Contents within this block are managed by 'conda init' !!\r\n",
      "__conda_setup=\"$('/home/sumire/miniconda3/bin/conda' 'shell.bash' 'hook' 2> /dev/null)\"\r\n",
      "if [ $? -eq 0 ]; then\r\n",
      "    eval \"$__conda_setup\"\r\n",
      "else\r\n",
      "    if [ -f \"/home/sumire/miniconda3/etc/profile.d/conda.sh\" ]; then\r\n",
      "        . \"/home/sumire/miniconda3/etc/profile.d/conda.sh\"\r\n",
      "    else\r\n",
      "        export PATH=\"/home/sumire/miniconda3/bin:$PATH\"\r\n",
      "    fi\r\n",
      "fi\r\n",
      "unset __conda_setup\r\n",
      "# <<< conda initialize <<<\r\n",
      "\r\n",
      "export TGI_CENTRAL_ADDRESS=localhost:8765\r\n"
     ]
    }
   ],
   "source": [
    "!cat ~/.bashrc"
   ]
  },
  {
   "cell_type": "code",
   "execution_count": 3,
   "id": "417bcf30",
   "metadata": {},
   "outputs": [
    {
     "name": "stdout",
     "output_type": "stream",
     "text": [
      "None\n"
     ]
    }
   ],
   "source": [
    "TGI_CENTRAL_ADDRESS=os.environ.get('TGI_CENTRAL_ADDRESS')\n",
    "print(TGI_CENTRAL_ADDRESS)"
   ]
  },
  {
   "cell_type": "code",
   "execution_count": 4,
   "id": "bbfe5233",
   "metadata": {},
   "outputs": [
    {
     "data": {
      "text/plain": [
       "[{'name': 'upstage/Llama-2-70b-instruct-v2',\n",
       "  'address': '0.0.0.0:8082',\n",
       "  'owner': 'patrick',\n",
       "  'is_quantized': True},\n",
       " {'name': 'lmsys/vicuna-33b-v1.3',\n",
       "  'address': '0.0.0.0:8081',\n",
       "  'owner': 'patrick',\n",
       "  'is_quantized': True},\n",
       " {'name': 'decapoda-research/llama-7b-hf',\n",
       "  'address': '0.0.0.0:8083',\n",
       "  'owner': 'patrick',\n",
       "  'is_quantized': False}]"
      ]
     },
     "execution_count": 4,
     "metadata": {},
     "output_type": "execute_result"
    }
   ],
   "source": [
    "# get current models and pick the first one\n",
    "TGI_CENTRAL_ADDRESS=\"localhost:8765\"\n",
    "#central_url = f\"http://{TGI_CENTRAL_ADDRESS}\"\n",
    "models = Client.list_from_central(central_url=f\"http://{TGI_CENTRAL_ADDRESS}\")\n",
    "models"
   ]
  },
  {
   "cell_type": "code",
   "execution_count": 5,
   "id": "97a5edaa",
   "metadata": {},
   "outputs": [
    {
     "name": "stdout",
     "output_type": "stream",
     "text": [
      "upstage/Llama-2-70b-instruct-v2 0.0.0.0:8082\n"
     ]
    }
   ],
   "source": [
    "model_name, model_addr = models[0][\"name\"], models[0][\"address\"]\n",
    "print (model_name, model_addr)"
   ]
  },
  {
   "cell_type": "code",
   "execution_count": 7,
   "id": "f9d55515",
   "metadata": {},
   "outputs": [],
   "source": [
    "def generate_text(prompt, timeout, max_new_tokens):\n",
    "    print(f\"Using model {model_name} at {model_addr}\")\n",
    "    print (prompt)\n",
    "    client = Client(\"http://\" + model_addr)\n",
    "    client.timeout = timeout\n",
    "    return client.generate(prompt, max_new_tokens=max_new_tokens).generated_text"
   ]
  },
  {
   "cell_type": "markdown",
   "id": "cc150279",
   "metadata": {},
   "source": [
    "The reference we want to translate after postprocess: \"今や真っ黒な出で立ちで とても落ち込んでいます 皆さんは素敵だと 思われるかもしれませんが 心は死んでいるんです 選択肢がなかったのですから\""
   ]
  },
  {
   "cell_type": "markdown",
   "id": "acd8b90b",
   "metadata": {},
   "source": [
    "For 2-1 already, max_new_tokens = 64 is not enough\n",
    "For this example 128 is a good size with 2-1"
   ]
  },
  {
   "cell_type": "code",
   "execution_count": 7,
   "id": "9e657d38",
   "metadata": {},
   "outputs": [
    {
     "name": "stdout",
     "output_type": "stream",
     "text": [
      "Using model upstage/Llama-2-70b-instruct-v2 at 0.0.0.0:8082\n",
      "Translate English to Japanese:\n",
      "I'm Jessi, and this is my suitcase. <b> But before I show you what I've got inside,  I'm going to make a very public confession,  and that is,  I'm outfit-obsessed. => 私はジェシー　これは私のスーツケースです <b> 中に入っている物をお見せする前に 皆さんの前で ある告白をします 私は 洋服に夢中です\n",
      " <b> I'd like to share with you a discovery that I made a few months ago  while writing an article for Italian Wired. =>  <b> 数ヶ月前に雑誌の記事を執筆していたときに 発見したことをお話しします\n",
      "Good afternoon, everybody. <b> I've got something to show you. => 皆さんこんにちは <b> 今日はあるものをお持ちしました\n",
      "And we push and we push and we push  until we completely alienate all of you. <b>We wear all black, we get very depressed,  you think we're adorable,  we're dead inside because we've got no choice.=>\n"
     ]
    },
    {
     "data": {
      "text/plain": [
       "'私たちは押し続けます 皆さんを孤立させます <b> 私たちは全員黒を着ます とても悲しいです'"
      ]
     },
     "execution_count": 7,
     "metadata": {},
     "output_type": "execute_result"
    }
   ],
   "source": [
    "# max_size = 64, 2-1\n",
    "prompt0='''Translate English to Japanese:\n",
    "I'm Jessi, and this is my suitcase. <b> But before I show you what I've got inside,  I'm going to make a very public confession,  and that is,  I'm outfit-obsessed. => 私はジェシー　これは私のスーツケースです <b> 中に入っている物をお見せする前に 皆さんの前で ある告白をします 私は 洋服に夢中です\n",
    " <b> I'd like to share with you a discovery that I made a few months ago  while writing an article for Italian Wired. =>  <b> 数ヶ月前に雑誌の記事を執筆していたときに 発見したことをお話しします\n",
    "Good afternoon, everybody. <b> I've got something to show you. => 皆さんこんにちは <b> 今日はあるものをお持ちしました\n",
    "And we push and we push and we push  until we completely alienate all of you. <b>We wear all black, we get very depressed,  you think we're adorable,  we're dead inside because we've got no choice.=>'''\n",
    "\n",
    "generate_text(prompt0, 20, 64)"
   ]
  },
  {
   "cell_type": "code",
   "execution_count": 8,
   "id": "61cb686e",
   "metadata": {},
   "outputs": [
    {
     "name": "stdout",
     "output_type": "stream",
     "text": [
      "Using model upstage/Llama-2-70b-instruct-v2 at 0.0.0.0:8082\n",
      "Translate English to Japanese:\n",
      "I'm Jessi, and this is my suitcase. <b> But before I show you what I've got inside,  I'm going to make a very public confession,  and that is,  I'm outfit-obsessed. => 私はジェシー　これは私のスーツケースです <b> 中に入っている物をお見せする前に 皆さんの前で ある告白をします 私は 洋服に夢中です\n",
      " <b> I'd like to share with you a discovery that I made a few months ago  while writing an article for Italian Wired. =>  <b> 数ヶ月前に雑誌の記事を執筆していたときに 発見したことをお話しします\n",
      "Good afternoon, everybody. <b> I've got something to show you. => 皆さんこんにちは <b> 今日はあるものをお持ちしました\n",
      "And we push and we push and we push  until we completely alienate all of you. <b>We wear all black, we get very depressed,  you think we're adorable,  we're dead inside because we've got no choice.=>\n"
     ]
    },
    {
     "data": {
      "text/plain": [
       "\"私たちは押し続けます 皆さんを孤立させます <b> 私たちは全員黒を着ます とても悲しいです あなたたちは私たちが可愛いと思います でも私たちの中は死んでいます 選択肢がありませんから\\nI'm Jessi, and this is\""
      ]
     },
     "execution_count": 8,
     "metadata": {},
     "output_type": "execute_result"
    }
   ],
   "source": [
    "# max_size = 128\n",
    "generate_text(prompt0, 20, 128)"
   ]
  },
  {
   "cell_type": "markdown",
   "id": "52488fdc",
   "metadata": {},
   "source": [
    "changing the max_new_token will worsen the translation? \n",
    "-> no, so after this we do 256"
   ]
  },
  {
   "cell_type": "code",
   "execution_count": 10,
   "id": "e5d47d30",
   "metadata": {},
   "outputs": [
    {
     "name": "stdout",
     "output_type": "stream",
     "text": [
      "Using model upstage/Llama-2-70b-instruct-v2 at 0.0.0.0:8082\n",
      "Translate English to Japanese:\n",
      "I'm Jessi, and this is my suitcase. <b> But before I show you what I've got inside,  I'm going to make a very public confession,  and that is,  I'm outfit-obsessed. => 私はジェシー　これは私のスーツケースです <b> 中に入っている物をお見せする前に 皆さんの前で ある告白をします 私は 洋服に夢中です\n",
      " <b> I'd like to share with you a discovery that I made a few months ago  while writing an article for Italian Wired. =>  <b> 数ヶ月前に雑誌の記事を執筆していたときに 発見したことをお話しします\n",
      "Good afternoon, everybody. <b> I've got something to show you. => 皆さんこんにちは <b> 今日はあるものをお持ちしました\n",
      "And we push and we push and we push  until we completely alienate all of you. <b>We wear all black, we get very depressed,  you think we're adorable,  we're dead inside because we've got no choice.=>\n"
     ]
    },
    {
     "data": {
      "text/plain": [
       "\"私たちは押し続けます 皆さんを孤立させます <b> 私たちは全員黒を着ます とても悲しいです あなたたちは私たちが可愛いと思います でも私たちの中は死んでいます 選択肢がありませんから\\nI'm Jessi, and this is my suitcase. <b> But before I show you what I've got inside,  I'm going to make a very public confession,  and that is,  I'm outfit-obsessed.\\n私はジェシー\\u3000これは私のスーツケースです <b> 中に入っている物をお見せする前に 皆さんの前で ある告白をします 私は 洋服に夢中です\\n<b> I'd like to share with you a discovery that I made a few months ago  while writing an article for Italian Wired.\\n<b> 数ヶ月前に雑誌の記事を執筆していたときに 発見したことをお話しします\\nGood afternoon, everybody. <b> I've got something to show you.\\n皆さんこんにちは <b> 今日はあるものをお持ちしました\\nAnd we push and we push and we push  until we completely alienate all of you. <b>We wear all black, we get very depressed,  you think we're adorable,  we're dead inside because we've got no choice.\\n私たちは押し続けます 皆さんを孤立させます <b> 私たちは全員黒を着ます とても悲しいです あなたたちは私たちが可愛いと思います でも私たちの中は死んでいます 選択肢がありませんから\""
      ]
     },
     "execution_count": 10,
     "metadata": {},
     "output_type": "execute_result"
    }
   ],
   "source": [
    "# max_size = 1024\n",
    "generate_text(prompt0, 100, 1024)"
   ]
  },
  {
   "cell_type": "markdown",
   "id": "d8976608",
   "metadata": {},
   "source": [
    "With Bad prompt VS without -> actually better because the output generates break token"
   ]
  },
  {
   "cell_type": "code",
   "execution_count": 11,
   "id": "fa687b62",
   "metadata": {},
   "outputs": [
    {
     "name": "stdout",
     "output_type": "stream",
     "text": [
      "Using model upstage/Llama-2-70b-instruct-v2 at 0.0.0.0:8082\n",
      "Translate English to Japanese:\n",
      "I'm Jessi, and this is my suitcase. <b> But before I show you what I've got inside,  I'm going to make a very public confession,  and that is,  I'm outfit-obsessed. => 私はジェシー　これは私のスーツケースです <b> 中に入っている物をお見せする前に 皆さんの前で ある告白をします 私は 洋服に夢中です\n",
      "I have never, ever forgotten the words of my grandmother  who died in her exile:  \"Son, resist Gaddafi. Fight him.But don't you ever turn  into a Gaddafi-like revolutionary.\" <b> Almost two years have passed  since the Libyan Revolution broke out,  inspired by the waves of mass mobilization  in both the Tunisian and the Egyptian revolutions. => 私は一度たりとも忘れたことはありません 亡命中に亡くなった祖母の言葉を 「息子よ カダフィに抵抗し 戦いなさいでもそれは決して カダフィの様な革命であってはなりません」 <b> リビア革命が勃発してから およそ２年が経ちました リビア革命が勃発してから およそ２年が経ちました 大規模な騒乱の波 チュニジアとエジプトでの革命の流れを受け 大規模な騒乱の波 チュニジアとエジプトでの革命の流れを受け\n",
      "<b> I'd like to share with you a discovery that I made a few months ago  while writing an article for Italian Wired. =>  <b> 数ヶ月前に雑誌の記事を執筆していたときに 発見したことをお話しします\n",
      "Good afternoon, everybody. <b> I've got something to show you. => 皆さんこんにちは <b> 今日はあるものをお持ちしました\n",
      "And we push and we push and we push  until we completely alienate all of you. <b>We wear all black, we get very depressed,  you think we're adorable,  we're dead inside because we've got no choice.=>\n"
     ]
    },
    {
     "data": {
      "text/plain": [
       "\"そして私たちは私たちは私たちは 皆さんを完全に疎外させるまで 押し続けます <b> 私たちは全員黒ずくめになり 非常に憂鬱になります あなたたちは私たちが可愛いと思います しかし私たちの中は死んでいます なぜなら私たちに選択肢はありませんからです\\n<b> I'm going to show you a few things  that I've got inside my suitcase. => <b> 私はスーツケースの中に入っている いくつかの物をお見せします\\n<b> I'm going to show you a few things  that I've got inside my suitcase. => <b> 私はスーツ\""
      ]
     },
     "execution_count": 11,
     "metadata": {},
     "output_type": "execute_result"
    }
   ],
   "source": [
    "# with repeated bad reference in shot\n",
    "prompt1='''Translate English to Japanese:\n",
    "I'm Jessi, and this is my suitcase. <b> But before I show you what I've got inside,  I'm going to make a very public confession,  and that is,  I'm outfit-obsessed. => 私はジェシー　これは私のスーツケースです <b> 中に入っている物をお見せする前に 皆さんの前で ある告白をします 私は 洋服に夢中です\n",
    "I have never, ever forgotten the words of my grandmother  who died in her exile:  \"Son, resist Gaddafi. Fight him.But don't you ever turn  into a Gaddafi-like revolutionary.\" <b> Almost two years have passed  since the Libyan Revolution broke out,  inspired by the waves of mass mobilization  in both the Tunisian and the Egyptian revolutions. => 私は一度たりとも忘れたことはありません 亡命中に亡くなった祖母の言葉を 「息子よ カダフィに抵抗し 戦いなさいでもそれは決して カダフィの様な革命であってはなりません」 <b> リビア革命が勃発してから およそ２年が経ちました リビア革命が勃発してから およそ２年が経ちました 大規模な騒乱の波 チュニジアとエジプトでの革命の流れを受け 大規模な騒乱の波 チュニジアとエジプトでの革命の流れを受け\n",
    "<b> I'd like to share with you a discovery that I made a few months ago  while writing an article for Italian Wired. =>  <b> 数ヶ月前に雑誌の記事を執筆していたときに 発見したことをお話しします\n",
    "Good afternoon, everybody. <b> I've got something to show you. => 皆さんこんにちは <b> 今日はあるものをお持ちしました\n",
    "And we push and we push and we push  until we completely alienate all of you. <b>We wear all black, we get very depressed,  you think we're adorable,  we're dead inside because we've got no choice.=>'''\n",
    "\n",
    "generate_text(prompt1, 50, 256)"
   ]
  },
  {
   "cell_type": "code",
   "execution_count": 12,
   "id": "8ac8f099",
   "metadata": {
    "scrolled": true
   },
   "outputs": [
    {
     "name": "stdout",
     "output_type": "stream",
     "text": [
      "Using model upstage/Llama-2-70b-instruct-v2 at 0.0.0.0:8082\n",
      "Translate English to Japanese:\n",
      "I'm Jessi, and this is my suitcase. <b> But before I show you what I've got inside,  I'm going to make a very public confession,  and that is,  I'm outfit-obsessed. => 私はジェシー　これは私のスーツケースです <b> 中に入っている物をお見せする前に 皆さんの前で ある告白をします 私は 洋服に夢中です\n",
      " <b> I'd like to share with you a discovery that I made a few months ago  while writing an article for Italian Wired. =>  <b> 数ヶ月前に雑誌の記事を執筆していたときに 発見したことをお話しします\n",
      "Good afternoon, everybody. <b> I've got something to show you. => 皆さんこんにちは <b> 今日はあるものをお持ちしました\n",
      "And we push and we push and we push  until we completely alienate all of you. <b>We wear all black, we get very depressed,  you think we're adorable,  we're dead inside because we've got no choice.=>\n"
     ]
    },
    {
     "data": {
      "text/plain": [
       "\"私たちは押し続けます 皆さんを孤立させます <b> 私たちは全員黒を着ます とても悲しいです あなたたちは私たちが可愛いと思います でも私たちの中は死んでいます 選択肢がありませんから\\nI'm Jessi, and this is my suitcase. <b> But before I show you what I've got inside,  I'm going to make a very public confession,  and that is,  I'm outfit-obsessed.\\n私はジェシー\\u3000これは私のスーツケースです <b> 中に入っている物をお見せする前に 皆さんの前で ある告白をします 私は 洋服に夢中です\\n<b> I\""
      ]
     },
     "execution_count": 12,
     "metadata": {},
     "output_type": "execute_result"
    }
   ],
   "source": [
    "# without repeated bad reference in shot\n",
    "\n",
    "generate_text(prompt0, 50, 256)"
   ]
  },
  {
   "cell_type": "markdown",
   "id": "993c8ada",
   "metadata": {},
   "source": [
    "With Context or Without context"
   ]
  },
  {
   "cell_type": "code",
   "execution_count": 13,
   "id": "547de062",
   "metadata": {},
   "outputs": [
    {
     "name": "stdout",
     "output_type": "stream",
     "text": [
      "Using model upstage/Llama-2-70b-instruct-v2 at 0.0.0.0:8082\n",
      "Translate English to Japanese:\n",
      "I'm Jessi, and this is my suitcase. <b> But before I show you what I've got inside,  I'm going to make a very public confession,  and that is,  I'm outfit-obsessed. => 私はジェシー　これは私のスーツケースです <b> 中に入っている物をお見せする前に 皆さんの前で ある告白をします 私は 洋服に夢中です\n",
      " <b> I'd like to share with you a discovery that I made a few months ago  while writing an article for Italian Wired. =>  <b> 数ヶ月前に雑誌の記事を執筆していたときに 発見したことをお話しします\n",
      "Good afternoon, everybody. <b> I've got something to show you. => 皆さんこんにちは <b> 今日はあるものをお持ちしました\n",
      "And we push and we push and we push  until we completely alienate all of you. <b>We wear all black, we get very depressed,  you think we're adorable,  we're dead inside because we've got no choice.=>\n"
     ]
    },
    {
     "data": {
      "text/plain": [
       "\"私たちは押し続けます 皆さんを孤立させます <b> 私たちは全員黒を着ます とても悲しいです あなたたちは私たちが可愛いと思います でも私たちの中は死んでいます 選択肢がありませんから\\nI'm Jessi, and this is my suitcase. <b> But before I show you what I've got inside,  I'm going to make a very public confession,  and that is,  I'm outfit-obsessed.\\n私はジェシー\\u3000これは私のスーツケースです <b> 中に入っている物をお見せする前に 皆さんの前で ある告白をします 私は 洋服に夢中です\\n<b> I\""
      ]
     },
     "execution_count": 13,
     "metadata": {},
     "output_type": "execute_result"
    }
   ],
   "source": [
    "# 2-1\n",
    "generate_text(prompt0, 50, 256)"
   ]
  },
  {
   "cell_type": "code",
   "execution_count": 14,
   "id": "05f2fbe9",
   "metadata": {},
   "outputs": [
    {
     "name": "stdout",
     "output_type": "stream",
     "text": [
      "Using model upstage/Llama-2-70b-instruct-v2 at 0.0.0.0:8082\n",
      "Translate English to Japanese:\n",
      "I'm Jessi, and this is my suitcase. <b> But before I show you what I've got inside,  I'm going to make a very public confession,  and that is,  I'm outfit-obsessed. => 私はジェシー　これは私のスーツケースです <b> 中に入っている物をお見せする前に 皆さんの前で ある告白をします 私は 洋服に夢中です\n",
      "I have never, ever forgotten the words of my grandmother  who died in her exile:  \"Son, resist Gaddafi. Fight him.But don't you ever turn  into a Gaddafi-like revolutionary.\" <b> Almost two years have passed  since the Libyan Revolution broke out,  inspired by the waves of mass mobilization  in both the Tunisian and the Egyptian revolutions. => 私は一度たりとも忘れたことはありません 亡命中に亡くなった祖母の言葉を 「息子よ カダフィに抵抗し 戦いなさいでもそれは決して カダフィの様な革命であってはなりません」 <b> リビア革命が勃発してから およそ２年が経ちました リビア革命が勃発してから およそ２年が経ちました 大規模な騒乱の波 チュニジアとエジプトでの革命の流れを受け 大規模な騒乱の波 チュニジアとエジプトでの革命の流れを受け\n",
      " <b> I'd like to share with you a discovery that I made a few months ago  while writing an article for Italian Wired. =>  <b> 数ヶ月前に雑誌の記事を執筆していたときに 発見したことをお話しします\n",
      "Good afternoon, everybody. <b> I've got something to show you. => 皆さんこんにちは <b> 今日はあるものをお持ちしました\n",
      "On the one side is innovation,  and architects are constantly pushing, pushing for new technologies,  new typologies, new solutions for the way that we live today.And we push and we push and we push  until we completely alienate all of you. <b> We wear all black, we get very depressed,  you think we're adorable,  we're dead inside because we've got no choice. =>\n"
     ]
    },
    {
     "data": {
      "text/plain": [
       "'一方は革新です 建築家は常に新しい技術、新しいタイプ、今日の生活に対する新しい解決策を求めています そして私たちは押し続けます 押し続けます 押し続けます 今日の生活に対する新しい解決策を求めています そして私たちは押し続けます 押し続けます 押し続けます 今日の生活に対する新しい解決策を求めています そして私たちは押し続けます 押し続けます 押し続けます 今日の生活に対する'"
      ]
     },
     "execution_count": 14,
     "metadata": {},
     "output_type": "execute_result"
    }
   ],
   "source": [
    "# 3-1\n",
    "prompt2 = '''Translate English to Japanese:\n",
    "I'm Jessi, and this is my suitcase. <b> But before I show you what I've got inside,  I'm going to make a very public confession,  and that is,  I'm outfit-obsessed. => 私はジェシー　これは私のスーツケースです <b> 中に入っている物をお見せする前に 皆さんの前で ある告白をします 私は 洋服に夢中です\n",
    "I have never, ever forgotten the words of my grandmother  who died in her exile:  \"Son, resist Gaddafi. Fight him.But don't you ever turn  into a Gaddafi-like revolutionary.\" <b> Almost two years have passed  since the Libyan Revolution broke out,  inspired by the waves of mass mobilization  in both the Tunisian and the Egyptian revolutions. => 私は一度たりとも忘れたことはありません 亡命中に亡くなった祖母の言葉を 「息子よ カダフィに抵抗し 戦いなさいでもそれは決して カダフィの様な革命であってはなりません」 <b> リビア革命が勃発してから およそ２年が経ちました リビア革命が勃発してから およそ２年が経ちました 大規模な騒乱の波 チュニジアとエジプトでの革命の流れを受け 大規模な騒乱の波 チュニジアとエジプトでの革命の流れを受け\n",
    " <b> I'd like to share with you a discovery that I made a few months ago  while writing an article for Italian Wired. =>  <b> 数ヶ月前に雑誌の記事を執筆していたときに 発見したことをお話しします\n",
    "Good afternoon, everybody. <b> I've got something to show you. => 皆さんこんにちは <b> 今日はあるものをお持ちしました\n",
    "On the one side is innovation,  and architects are constantly pushing, pushing for new technologies,  new typologies, new solutions for the way that we live today.And we push and we push and we push  until we completely alienate all of you. <b> We wear all black, we get very depressed,  you think we're adorable,  we're dead inside because we've got no choice. =>'''\n",
    "\n",
    "generate_text(prompt2, 50, 256)"
   ]
  },
  {
   "cell_type": "code",
   "execution_count": 15,
   "id": "2ea1c458",
   "metadata": {},
   "outputs": [
    {
     "name": "stdout",
     "output_type": "stream",
     "text": [
      "Using model upstage/Llama-2-70b-instruct-v2 at 0.0.0.0:8082\n",
      "Translate English to Japanese:\n",
      "I'm Jessi, and this is my suitcase. <b> But before I show you what I've got inside,  I'm going to make a very public confession,  and that is,  I'm outfit-obsessed. => 私はジェシー　これは私のスーツケースです <b> 中に入っている物をお見せする前に 皆さんの前で ある告白をします 私は 洋服に夢中です\n",
      "I have never, ever forgotten the words of my grandmother  who died in her exile:  \"Son, resist Gaddafi. Fight him.But don't you ever turn  into a Gaddafi-like revolutionary.\" <b> Almost two years have passed  since the Libyan Revolution broke out,  inspired by the waves of mass mobilization  in both the Tunisian and the Egyptian revolutions. => 私は一度たりとも忘れたことはありません 亡命中に亡くなった祖母の言葉を 「息子よ カダフィに抵抗し 戦いなさいでもそれは決して カダフィの様な革命であってはなりません」 <b> リビア革命が勃発してから およそ２年が経ちました リビア革命が勃発してから およそ２年が経ちました 大規模な騒乱の波 チュニジアとエジプトでの革命の流れを受け 大規模な騒乱の波 チュニジアとエジプトでの革命の流れを受け\n",
      " <b> I'd like to share with you a discovery that I made a few months ago  while writing an article for Italian Wired. =>  <b> 数ヶ月前に雑誌の記事を執筆していたときに 発見したことをお話しします\n",
      "Good afternoon, everybody. <b> I've got something to show you. => 皆さんこんにちは <b> 今日はあるものをお持ちしました\n",
      "On the one side is innovation,  and architects are constantly pushing, pushing for new technologies,  new typologies, new solutions for the way that we live today.And we push and we push and we push  until we completely alienate all of you. <b> We wear all black, we get very depressed,  you think we're adorable,  we're dead inside because we've got no choice. =>\n"
     ]
    },
    {
     "data": {
      "text/plain": [
       "'一方は革新です 建築家は常に新しい技術、新しいタイプ、今日の生活に対する新しい解決策を求めています そして私たちは押し続けます 押し続けます 押し続けます 今日の生活に対する新しい解決策を求めています そして私たちは押し続けます 押し続けます 押し続けます 今日の生活に対する新しい解決策を求めています そして私たちは押し続けます 押し続けます 押し続けます 今日の生活に対する'"
      ]
     },
     "execution_count": 15,
     "metadata": {},
     "output_type": "execute_result"
    }
   ],
   "source": [
    "# 3-1 we tested\n",
    "prompt_tested = '''Translate English to Japanese:\n",
    "I'm Jessi, and this is my suitcase. <b> But before I show you what I've got inside,  I'm going to make a very public confession,  and that is,  I'm outfit-obsessed. => 私はジェシー　これは私のスーツケースです <b> 中に入っている物をお見せする前に 皆さんの前で ある告白をします 私は 洋服に夢中です\n",
    "I have never, ever forgotten the words of my grandmother  who died in her exile:  \"Son, resist Gaddafi. Fight him.But don't you ever turn  into a Gaddafi-like revolutionary.\" <b> Almost two years have passed  since the Libyan Revolution broke out,  inspired by the waves of mass mobilization  in both the Tunisian and the Egyptian revolutions. => 私は一度たりとも忘れたことはありません 亡命中に亡くなった祖母の言葉を 「息子よ カダフィに抵抗し 戦いなさいでもそれは決して カダフィの様な革命であってはなりません」 <b> リビア革命が勃発してから およそ２年が経ちました リビア革命が勃発してから およそ２年が経ちました 大規模な騒乱の波 チュニジアとエジプトでの革命の流れを受け 大規模な騒乱の波 チュニジアとエジプトでの革命の流れを受け\n",
    " <b> I'd like to share with you a discovery that I made a few months ago  while writing an article for Italian Wired. =>  <b> 数ヶ月前に雑誌の記事を執筆していたときに 発見したことをお話しします\n",
    "Good afternoon, everybody. <b> I've got something to show you. => 皆さんこんにちは <b> 今日はあるものをお持ちしました\n",
    "On the one side is innovation,  and architects are constantly pushing, pushing for new technologies,  new typologies, new solutions for the way that we live today.And we push and we push and we push  until we completely alienate all of you. <b> We wear all black, we get very depressed,  you think we're adorable,  we're dead inside because we've got no choice. =>'''\n",
    "\n",
    "generate_text(prompt_tested, 50, 256)"
   ]
  },
  {
   "cell_type": "code",
   "execution_count": 16,
   "id": "7242fe7f",
   "metadata": {
    "scrolled": true
   },
   "outputs": [
    {
     "name": "stdout",
     "output_type": "stream",
     "text": [
      "Using model upstage/Llama-2-70b-instruct-v2 at 0.0.0.0:8082\n",
      "Translate English to Japanese:\n",
      "But before I show you what I've got inside,  I'm going to make a very public confession,  and that is,  I'm outfit-obsessed. => 中に入っている物をお見せする前に 皆さんの前で ある告白をします 私は 洋服に夢中です\n",
      "Almost two years have passed  since the Libyan Revolution broke out,  inspired by the waves of mass mobilization  in both the Tunisian and the Egyptian revolutions. => リビア革命が勃発してから およそ２年が経ちました リビア革命が勃発してから およそ２年が経ちました 大規模な騒乱の波 チュニジアとエジプトでの革命の流れを受け 大規模な騒乱の波 チュニジアとエジプトでの革命の流れを受け\n",
      "I'd like to share with you a discovery that I made a few months ago  while writing an article for Italian Wired. => 数ヶ月前に雑誌の記事を執筆していたときに 発見したことをお話しします\n",
      "I've got something to show you. => 今日はあるものをお持ちしました\n",
      "We wear all black, we get very depressed,  you think we're adorable,  we're dead inside because we've got no choice. =>\n"
     ]
    },
    {
     "data": {
      "text/plain": [
       "\"私たちは全身黒ずくめで とても悲しいです あなたは私たちがかわいいと思います しかし私たちの中は死んでいます なぜなら私たちに選択肢はありませんから\\nI'm going to make a very public confession,  and that is,  I'm outfit-obsessed. => 私は公開の告白をします それは私がファッションに夢中であることです\\nI'm outfit-obsessed. => 私はファッションに夢中です\\nI'm going to make a very public confession,  and that is,  I'm outfit-obsessed.\\n私は公開の告白をします それは私がファッションに夢中であることです\\nI'm out\""
      ]
     },
     "execution_count": 16,
     "metadata": {},
     "output_type": "execute_result"
    }
   ],
   "source": [
    "# Without context 1-1 \n",
    "prompt3 = '''Translate English to Japanese:\n",
    "But before I show you what I've got inside,  I'm going to make a very public confession,  and that is,  I'm outfit-obsessed. => 中に入っている物をお見せする前に 皆さんの前で ある告白をします 私は 洋服に夢中です\n",
    "Almost two years have passed  since the Libyan Revolution broke out,  inspired by the waves of mass mobilization  in both the Tunisian and the Egyptian revolutions. => リビア革命が勃発してから およそ２年が経ちました リビア革命が勃発してから およそ２年が経ちました 大規模な騒乱の波 チュニジアとエジプトでの革命の流れを受け 大規模な騒乱の波 チュニジアとエジプトでの革命の流れを受け\n",
    "I'd like to share with you a discovery that I made a few months ago  while writing an article for Italian Wired. => 数ヶ月前に雑誌の記事を執筆していたときに 発見したことをお話しします\n",
    "I've got something to show you. => 今日はあるものをお持ちしました\n",
    "We wear all black, we get very depressed,  you think we're adorable,  we're dead inside because we've got no choice. =>'''\n",
    "\n",
    "generate_text(prompt3, 50, 256)"
   ]
  },
  {
   "cell_type": "markdown",
   "id": "1e43ad2b",
   "metadata": {},
   "source": [
    "different example"
   ]
  },
  {
   "cell_type": "code",
   "execution_count": 17,
   "id": "57d4df19",
   "metadata": {},
   "outputs": [
    {
     "name": "stdout",
     "output_type": "stream",
     "text": [
      "Translate the following text from English to German:\n",
      "Single-document summarization is the task of automatically generating a shorter version of a document while retaining its most important information. <b> The task has received much attention in the\n",
      "natural language processing community due to its potential for various information access applications.\n",
      "Using model upstage/Llama-2-70b-instruct-v2 at 0.0.0.0:8082\n",
      "Translate the following text from English to German:\n",
      "Single-document summarization is the task of automatically generating a shorter version of a document while retaining its most important information. <b> The task has received much attention in the\n",
      "natural language processing community due to its potential for various information access applications.\n"
     ]
    },
    {
     "data": {
      "text/plain": [
       "'</b>\\nEinzel-Dokument-Zusammenfassung ist die Aufgabe, eine kürzere Version eines Dokuments automatisch zu erstellen, wobei die wichtigsten Informationen beibehalten werden. Die Aufgabe hat in der Gemeinschaft der natürlichen Sprachverarbeitung viel Aufmerksamkeit erhalten, aufgrund ihres potenziellen Nutzens für verschiedene Informationszugangsanwendungen.'"
      ]
     },
     "execution_count": 17,
     "metadata": {},
     "output_type": "execute_result"
    }
   ],
   "source": [
    "# Zero shot, 2-1, => doesn't translate to target language\n",
    "prompt4='''Translate the following text from English to German:\n",
    "Single-document summarization is the task of automatically generating a shorter version of a document while retaining its most important information. <b> The task has received much attention in the\n",
    "natural language processing community due to its potential for various information access applications.'''\n",
    "print (prompt4)\n",
    "\n",
    "generate_text(prompt4, 50, 256)"
   ]
  },
  {
   "cell_type": "code",
   "execution_count": 18,
   "id": "f0f193e1",
   "metadata": {},
   "outputs": [
    {
     "name": "stdout",
     "output_type": "stream",
     "text": [
      "Using model upstage/Llama-2-70b-instruct-v2 at 0.0.0.0:8082\n",
      "Translate the following text from English to German:\n",
      "The task has received much attention in the natural language processing community due to its potential for various information access applications.\n"
     ]
    },
    {
     "data": {
      "text/plain": [
       "'\\nDie Aufgabe hat in der Gemeinschaft der natürlichen Sprachverarbeitung viel Aufmerksamkeit erhalten, aufgrund ihres Potenzials für verschiedene Informationszugangsanwendungen.'"
      ]
     },
     "execution_count": 18,
     "metadata": {},
     "output_type": "execute_result"
    }
   ],
   "source": [
    "# Zero shot, 1-1 => doesn't translate to target language \n",
    "prompt4='''Translate the following text from English to German:\n",
    "The task has received much attention in the natural language processing community due to its potential for various information access applications.'''\n",
    "\n",
    "generate_text(prompt4, 50, 256)"
   ]
  },
  {
   "cell_type": "markdown",
   "id": "a4ddeb3e",
   "metadata": {},
   "source": [
    "Putting the pretrained specific prompt, User/Assistant"
   ]
  },
  {
   "cell_type": "code",
   "execution_count": 19,
   "id": "1ca4f02c",
   "metadata": {},
   "outputs": [
    {
     "name": "stdout",
     "output_type": "stream",
     "text": [
      "### User:\n",
      "Translate from English to Japanese:\n",
      "Single-document summarization is the task of automatically generating a shorter version of a document while retaining its most important information. <b> The task has received much attention in the\n",
      "natural language processing community due to its potential for various information access applications.\n",
      "\n",
      "### Assistant:\n",
      "\n",
      "Using model upstage/Llama-2-70b-instruct-v2 at 0.0.0.0:8082\n",
      "### User:\n",
      "Translate from English to Japanese:\n",
      "Single-document summarization is the task of automatically generating a shorter version of a document while retaining its most important information. <b> The task has received much attention in the\n",
      "natural language processing community due to its potential for various information access applications.\n",
      "\n",
      "### Assistant:\n",
      "\n"
     ]
    },
    {
     "data": {
      "text/plain": [
       "'単一文書の要約は、文書の最も重要な情報を保持しながら、自動的に文書の短いバージョンを生成するタスクです。<b> このタスクは、様々な情報アクセスアプリケーションの可能性があるため、自然言語処理コミュニティで多くの注目を集めています。'"
      ]
     },
     "execution_count": 19,
     "metadata": {},
     "output_type": "execute_result"
    }
   ],
   "source": [
    "### Not understanding <break> token ==> <b> is better thant <break>\n",
    "prompt5='''### User:\\nTranslate from English to Japanese:\n",
    "Single-document summarization is the task of automatically generating a shorter version of a document while retaining its most important information. <b> The task has received much attention in the\n",
    "natural language processing community due to its potential for various information access applications.\\n\\n### Assistant:\\n'''\n",
    "\n",
    "print (prompt5)\n",
    "\n",
    "generate_text(prompt5, 50, 256)"
   ]
  },
  {
   "cell_type": "code",
   "execution_count": 20,
   "id": "6e5e907a",
   "metadata": {
    "scrolled": true
   },
   "outputs": [
    {
     "name": "stdout",
     "output_type": "stream",
     "text": [
      "Using model upstage/Llama-2-70b-instruct-v2 at 0.0.0.0:8082\n",
      "### User:\n",
      "Translate from English to Japanese:\n",
      "But before I show you what I've got inside,  I'm going to make a very public confession,  and that is,  I'm outfit-obsessed. => 中に入っている物をお見せする前に 皆さんの前で ある告白をします 私は 洋服に夢中です\n",
      "Almost two years have passed  since the Libyan Revolution broke out,  inspired by the waves of mass mobilization  in both the Tunisian and the Egyptian revolutions. => リビア革命が勃発してから およそ２年が経ちました リビア革命が勃発してから およそ２年が経ちました 大規模な騒乱の波 チュニジアとエジプトでの革命の流れを受け 大規模な騒乱の波 チュニジアとエジプトでの革命の流れを受け\n",
      "I'd like to share with you a discovery that I made a few months ago  while writing an article for Italian Wired. => 数ヶ月前に雑誌の記事を執筆していたときに 発見したことをお話しします\n",
      "I've got something to show you. => 今日はあるものをお持ちしました\n",
      "We wear all black, we get very depressed,  you think we're adorable,  we're dead inside because we've got no choice. =>\n"
     ]
    },
    {
     "data": {
      "text/plain": [
       "\"私たちは全身黒ずくめで とても悲しいです あなたは私たちがかわいいと思います しかし、私たちの中は死んでいます なぜなら私たちに選択肢はありませんから\\nI'm going to make a very public confession,  and that is,  I'm outfit-obsessed. => 私は公開で告白します それは、私はファッションに夢中です\\nI'm outfit-obsessed. => 私はファッションに夢中です\\nI'm going to make a very public confession,  and that is,  I'm outfit-obsessed. => 私は公開で告白します それは、私はファッションに夢中です\\nI'm outfit-obsessed. => �\""
      ]
     },
     "execution_count": 20,
     "metadata": {},
     "output_type": "execute_result"
    }
   ],
   "source": [
    "# Good but only for 1-1, not good for contextual model\n",
    "# with \"User on the top, 1-1\" ==> Translating OK, don't need postprocess\n",
    "prompt6='''### User:\\nTranslate from English to Japanese:\n",
    "But before I show you what I've got inside,  I'm going to make a very public confession,  and that is,  I'm outfit-obsessed. => 中に入っている物をお見せする前に 皆さんの前で ある告白をします 私は 洋服に夢中です\n",
    "Almost two years have passed  since the Libyan Revolution broke out,  inspired by the waves of mass mobilization  in both the Tunisian and the Egyptian revolutions. => リビア革命が勃発してから およそ２年が経ちました リビア革命が勃発してから およそ２年が経ちました 大規模な騒乱の波 チュニジアとエジプトでの革命の流れを受け 大規模な騒乱の波 チュニジアとエジプトでの革命の流れを受け\n",
    "I'd like to share with you a discovery that I made a few months ago  while writing an article for Italian Wired. => 数ヶ月前に雑誌の記事を執筆していたときに 発見したことをお話しします\n",
    "I've got something to show you. => 今日はあるものをお持ちしました\n",
    "We wear all black, we get very depressed,  you think we're adorable,  we're dead inside because we've got no choice. =>'''\n",
    "\n",
    "generate_text(prompt6, 50, 256)"
   ]
  },
  {
   "cell_type": "code",
   "execution_count": 22,
   "id": "4833130b",
   "metadata": {},
   "outputs": [
    {
     "name": "stdout",
     "output_type": "stream",
     "text": [
      "Using model upstage/Llama-2-70b-instruct-v2 at 0.0.0.0:8082\n",
      "### User:\n",
      "Translate from English to Japanese:\n",
      "But before I show you what I've got inside,  I'm going to make a very public confession,  and that is,  I'm outfit-obsessed. => 中に入っている物をお見せする前に 皆さんの前で ある告白をします 私は 洋服に夢中です\n",
      "Almost two years have passed  since the Libyan Revolution broke out,  inspired by the waves of mass mobilization  in both the Tunisian and the Egyptian revolutions. => リビア革命が勃発してから およそ２年が経ちました リビア革命が勃発してから およそ２年が経ちました 大規模な騒乱の波 チュニジアとエジプトでの革命の流れを受け 大規模な騒乱の波 チュニジアとエジプトでの革命の流れを受け\n",
      "I'd like to share with you a discovery that I made a few months ago  while writing an article for Italian Wired. => 数ヶ月前に雑誌の記事を執筆していたときに 発見したことをお話しします\n",
      "I've got something to show you. => 今日はあるものをお持ちしました\n",
      "We wear all black, we get very depressed,  you think we're adorable,  we're dead inside because we've got no choice. => \n",
      "\n",
      "### Assistant:\n",
      "\n"
     ]
    },
    {
     "data": {
      "text/plain": [
       "'でも、今日は中に入っているものをお見せします前に、皆さんの前である告白をします。私は洋服に夢中です。\\nリビア革命が勃発してからおよそ２年が経ちました。大規模な騒乱の波、チュニジアとエジプトでの革命の流れを受け、リビア革命が勃発してからおよそ２年が経ちました。大規模な騒乱の波、チュニジアとエジプトでの革命の流れを受け。\\n数ヶ月前に雑誌の記事を執筆していたときに発見したことをお話しします。\\n今日はあるものをお持ち'"
      ]
     },
     "execution_count": 22,
     "metadata": {},
     "output_type": "execute_result"
    }
   ],
   "source": [
    "# 1-1 with \"Assistant in the end\" ==> Only Repeating the shots, not translating the last source\n",
    "prompt7='''### User:\\nTranslate from English to Japanese:\n",
    "But before I show you what I've got inside,  I'm going to make a very public confession,  and that is,  I'm outfit-obsessed. => 中に入っている物をお見せする前に 皆さんの前で ある告白をします 私は 洋服に夢中です\n",
    "Almost two years have passed  since the Libyan Revolution broke out,  inspired by the waves of mass mobilization  in both the Tunisian and the Egyptian revolutions. => リビア革命が勃発してから およそ２年が経ちました リビア革命が勃発してから およそ２年が経ちました 大規模な騒乱の波 チュニジアとエジプトでの革命の流れを受け 大規模な騒乱の波 チュニジアとエジプトでの革命の流れを受け\n",
    "I'd like to share with you a discovery that I made a few months ago  while writing an article for Italian Wired. => 数ヶ月前に雑誌の記事を執筆していたときに 発見したことをお話しします\n",
    "I've got something to show you. => 今日はあるものをお持ちしました\n",
    "We wear all black, we get very depressed,  you think we're adorable,  we're dead inside because we've got no choice. => \\n\\n### Assistant:\\n'''\n",
    "\n",
    "\n",
    "generate_text(prompt7, 50, 256)"
   ]
  },
  {
   "cell_type": "code",
   "execution_count": 23,
   "id": "9deba257",
   "metadata": {
    "scrolled": true
   },
   "outputs": [
    {
     "name": "stdout",
     "output_type": "stream",
     "text": [
      "Using model upstage/Llama-2-70b-instruct-v2 at 0.0.0.0:8082\n",
      "### User:\n",
      "Translate from English to Japanese:\n",
      "I'm Jessi, and this is my suitcase. <b> But before I show you what I've got inside,  I'm going to make a very public confession,  and that is,  I'm outfit-obsessed. => 私はジェシー　これは私のスーツケースです <b> 中に入っている物をお見せする前に 皆さんの前で ある告白をします 私は 洋服に夢中です\n",
      "I have never, ever forgotten the words of my grandmother  who died in her exile:  \"Son, resist Gaddafi. Fight him.But don't you ever turn  into a Gaddafi-like revolutionary.\" <b> Almost two years have passed  since the Libyan Revolution broke out,  inspired by the waves of mass mobilization  in both the Tunisian and the Egyptian revolutions. => 私は一度たりとも忘れたことはありません 亡命中に亡くなった祖母の言葉を 「息子よ カダフィに抵抗し 戦いなさいでもそれは決して カダフィの様な革命であってはなりません」 <b> リビア革命が勃発してから およそ２年が経ちました リビア革命が勃発してから およそ２年が経ちました 大規模な騒乱の波 チュニジアとエジプトでの革命の流れを受け 大規模な騒乱の波 チュニジアとエジプトでの革命の流れを受け\n",
      " <b> I'd like to share with you a discovery that I made a few months ago  while writing an article for Italian Wired. =>  <b> 数ヶ月前に雑誌の記事を執筆していたときに 発見したことをお話しします\n",
      "Good afternoon, everybody. <b> I've got something to show you. => 皆さんこんにちは <b> 今日はあるものをお持ちしました\n",
      "On the one side is innovation,  and architects are constantly pushing, pushing for new technologies,  new typologies, new solutions for the way that we live today.And we push and we push and we push  until we completely alienate all of you. <b> We wear all black, we get very depressed,  you think we're adorable,  we're dead inside because we've got no choice. =>\n"
     ]
    },
    {
     "data": {
      "text/plain": [
       "\"一方は革新です 建築家たちは常に新しい技術、新しいタイポロジー、今日の生活に対する新しい解決策を求めています そして私たちは押し続けます 押し続けます 押し続けます あなたたちが私たちを完全に疎外させるまで <b> 私たちは全員黒を着ています 悲しいです あなたたちは私たちが可愛いと思います 私たちの中は死んでいます なぜなら私たちに選択肢はありませんからです\\nI'm going to tell you a story about a man named John. <b> John was a very successful businessman.\""
      ]
     },
     "execution_count": 23,
     "metadata": {},
     "output_type": "execute_result"
    }
   ],
   "source": [
    "# 3-1 with User on the top ==> it is not translating , rather generating new contents, without \"Assistant\"\n",
    "prompt8 = '''### User:\\nTranslate from English to Japanese:\n",
    "I'm Jessi, and this is my suitcase. <b> But before I show you what I've got inside,  I'm going to make a very public confession,  and that is,  I'm outfit-obsessed. => 私はジェシー　これは私のスーツケースです <b> 中に入っている物をお見せする前に 皆さんの前で ある告白をします 私は 洋服に夢中です\n",
    "I have never, ever forgotten the words of my grandmother  who died in her exile:  \"Son, resist Gaddafi. Fight him.But don't you ever turn  into a Gaddafi-like revolutionary.\" <b> Almost two years have passed  since the Libyan Revolution broke out,  inspired by the waves of mass mobilization  in both the Tunisian and the Egyptian revolutions. => 私は一度たりとも忘れたことはありません 亡命中に亡くなった祖母の言葉を 「息子よ カダフィに抵抗し 戦いなさいでもそれは決して カダフィの様な革命であってはなりません」 <b> リビア革命が勃発してから およそ２年が経ちました リビア革命が勃発してから およそ２年が経ちました 大規模な騒乱の波 チュニジアとエジプトでの革命の流れを受け 大規模な騒乱の波 チュニジアとエジプトでの革命の流れを受け\n",
    " <b> I'd like to share with you a discovery that I made a few months ago  while writing an article for Italian Wired. =>  <b> 数ヶ月前に雑誌の記事を執筆していたときに 発見したことをお話しします\n",
    "Good afternoon, everybody. <b> I've got something to show you. => 皆さんこんにちは <b> 今日はあるものをお持ちしました\n",
    "On the one side is innovation,  and architects are constantly pushing, pushing for new technologies,  new typologies, new solutions for the way that we live today.And we push and we push and we push  until we completely alienate all of you. <b> We wear all black, we get very depressed,  you think we're adorable,  we're dead inside because we've got no choice. =>'''\n",
    "\n",
    "\n",
    "generate_text(prompt8, 50, 256)"
   ]
  },
  {
   "cell_type": "code",
   "execution_count": 63,
   "id": "fde5e49b",
   "metadata": {},
   "outputs": [
    {
     "name": "stdout",
     "output_type": "stream",
     "text": [
      "Using model upstage/Llama-2-70b-instruct-v2 at 0.0.0.0:8082\n",
      "### User:\n",
      "Translate from English to Japanese:\n",
      "On the one side is innovation,  and architects are constantly pushing, pushing for new technologies,  new typologies, new solutions for the way that we live today.And we push and we push and we push  until we completely alienate all of you. <b> We wear all black, we get very depressed,  you think we're adorable,  we're dead inside because we've got no choice.\n",
      "\n",
      "### Assistant:\n",
      " \n"
     ]
    },
    {
     "data": {
      "text/plain": [
       "'片方には革新があり、建築家たちは常に新しい技術、新しいタイポロジー、今日の生活に対する新しい解決策を求めています。そして、私たちは押し続け、押し続け、押し続けます。そして、私たちは全員を孤立させてしまいます。<b> 私たちは全員黒を着て、非常に憂鬱になります。あなたたちは私たちが可愛いと思いますが、私たちの中は死んでいます。私たちには選択肢がありません。'"
      ]
     },
     "execution_count": 63,
     "metadata": {},
     "output_type": "execute_result"
    }
   ],
   "source": [
    "### Good \n",
    "# 3-1, User/assistant, ZERO shots ==> Translating even without shots and generate break token ==> good for contextual model with short inputs\n",
    "prompt9 = '''### User:\\nTranslate from English to Japanese:\n",
    "On the one side is innovation,  and architects are constantly pushing, pushing for new technologies,  new typologies, new solutions for the way that we live today.And we push and we push and we push  until we completely alienate all of you. <b> We wear all black, we get very depressed,  you think we're adorable,  we're dead inside because we've got no choice.\\n\\n### Assistant:\\n '''\n",
    "\n",
    "generate_text(prompt9, 50, 256)"
   ]
  },
  {
   "cell_type": "code",
   "execution_count": 65,
   "id": "e35e9ad1",
   "metadata": {},
   "outputs": [
    {
     "name": "stdout",
     "output_type": "stream",
     "text": [
      "Using model upstage/Llama-2-70b-instruct-v2 at 0.0.0.0:8082\n",
      "### User:\n",
      "Translate the last sentence after <b> from English to Japanese:\n",
      "On the one side is innovation,  and architects are constantly pushing, pushing for new technologies,  new typologies, new solutions for the way that we live today.And we push and we push and we push  until we completely alienate all of you. <b> We wear all black, we get very depressed,  you think we're adorable,  we're dead inside because we've got no choice.\n",
      "\n",
      "### Assistant:\n",
      " \n"
     ]
    },
    {
     "data": {
      "text/plain": [
       "'一方は革新で、建築家たちは常に新しい技術、新しいタイポロジー、今日の生活に対する新しい解決策を求めています。そして、私たちは押し続け、押し続け、押し続け、あなたたち全員を完全に疎外させます。<b> 私たちは全員黒を着て、非常に憂鬱になります、あなたたちは私たちが可愛いと思いますが、私たちの中は死んでいます、なぜなら私たちに選択肢はありませんから。'"
      ]
     },
     "execution_count": 65,
     "metadata": {},
     "output_type": "execute_result"
    }
   ],
   "source": [
    "### The instruction like \"Translate the last sentence after <b> \" doesn't work\n",
    "prompt10 = '''### User:\\nTranslate the last sentence after <b> from English to Japanese:\n",
    "On the one side is innovation,  and architects are constantly pushing, pushing for new technologies,  new typologies, new solutions for the way that we live today.And we push and we push and we push  until we completely alienate all of you. <b> We wear all black, we get very depressed,  you think we're adorable,  we're dead inside because we've got no choice.\\n\\n### Assistant:\\n '''\n",
    "\n",
    "generate_text(prompt10, 50, 256)"
   ]
  },
  {
   "cell_type": "code",
   "execution_count": 69,
   "id": "ea7d127a",
   "metadata": {},
   "outputs": [
    {
     "name": "stdout",
     "output_type": "stream",
     "text": [
      "Using model upstage/Llama-2-70b-instruct-v2 at 0.0.0.0:8082\n",
      "### User:\n",
      "Given context:\n",
      "On the one side is innovation,  and architects are constantly pushing, pushing for new technologies,  new typologies, new solutions for the way that we live today.And we push and we push and we push  until we completely alienate all of you.\n",
      "Translate from English to Japanese:\n",
      "We wear all black, we get very depressed,  you think we're adorable,  we're dead inside because we've got no choice.\n",
      "\n",
      "### Assistant:\n",
      " \n"
     ]
    },
    {
     "data": {
      "text/plain": [
       "'黒い服を着て、とても悲しくなります。あなたたちは私たちが可愛いと思いますが、私たちの中は死んでいます。なぜなら、私たちに選択肢はありませんからです。'"
      ]
     },
     "execution_count": 69,
     "metadata": {},
     "output_type": "execute_result"
    }
   ],
   "source": [
    "### Good (?)\n",
    "# 3-1, User/assistant Zero shots with contexts with \"Given Contexts\" ### but another example below needs postprocess with \\n \n",
    "prompt12 = '''### User:\n",
    "Given context:\n",
    "On the one side is innovation,  and architects are constantly pushing, pushing for new technologies,  new typologies, new solutions for the way that we live today.And we push and we push and we push  until we completely alienate all of you.\n",
    "Translate from English to Japanese:\n",
    "We wear all black, we get very depressed,  you think we're adorable,  we're dead inside because we've got no choice.\\n\\n### Assistant:\\n '''\n",
    "\n",
    "generate_text(prompt12, 50, 256)"
   ]
  },
  {
   "cell_type": "code",
   "execution_count": 66,
   "id": "4e968ce4",
   "metadata": {},
   "outputs": [
    {
     "name": "stdout",
     "output_type": "stream",
     "text": [
      "Using model upstage/Llama-2-70b-instruct-v2 at 0.0.0.0:8082\n",
      "### User:\n",
      "Given context, translate only the source sentence to Japanese:\n",
      "Context:\n",
      "On the one side is innovation,  and architects are constantly pushing, pushing for new technologies,  new typologies, new solutions for the way that we live today.And we push and we push and we push  until we completely alienate all of you.\n",
      "Source sentence:\n",
      "We wear all black, we get very depressed,  you think we're adorable,  we're dead inside because we've got no choice.\n",
      "\n",
      "### Assistant:\n",
      " \n"
     ]
    },
    {
     "data": {
      "text/plain": [
       "'私たちは全身黒を着て、とても悲しいです。あなたたちは私たちがかわいいと思いますが、私たちの中は死んでいます。私たちには選択肢がありません。'"
      ]
     },
     "execution_count": 66,
     "metadata": {},
     "output_type": "execute_result"
    }
   ],
   "source": [
    "# Good\n",
    "# 3-1, User/assistant Zero shots with contexts with \"Gien context translate only the source sentence\" \n",
    "prompt12 = '''### User:\n",
    "Given context, translate only the source sentence to Japanese:\n",
    "Context:\n",
    "On the one side is innovation,  and architects are constantly pushing, pushing for new technologies,  new typologies, new solutions for the way that we live today.And we push and we push and we push  until we completely alienate all of you.\n",
    "Source sentence:\n",
    "We wear all black, we get very depressed,  you think we're adorable,  we're dead inside because we've got no choice.\\n\\n### Assistant:\\n '''\n",
    "\n",
    "generate_text(prompt12, 50, 256)"
   ]
  },
  {
   "cell_type": "markdown",
   "id": "07e6a7f8",
   "metadata": {},
   "source": [
    "Try obvious contextual example (not in dataset)"
   ]
  },
  {
   "cell_type": "code",
   "execution_count": 78,
   "id": "15e131ce",
   "metadata": {},
   "outputs": [
    {
     "name": "stdout",
     "output_type": "stream",
     "text": [
      "Using model upstage/Llama-2-70b-instruct-v2 at 0.0.0.0:8082\n",
      "Translate from English to Japanese:\n",
      "I'm Jessi, and this is my suitcase. <b> But before I show you what I've got inside,  I'm going to make a very public confession,  and that is,  I'm outfit-obsessed. => 私はジェシー　これは私のスーツケースです <b> 中に入っている物をお見せする前に 皆さんの前で ある告白をします 私は 洋服に夢中です\n",
      "I have never, ever forgotten the words of my grandmother  who died in her exile:  \"Son, resist Gaddafi. Fight him.But don't you ever turn  into a Gaddafi-like revolutionary.\" <b> Almost two years have passed  since the Libyan Revolution broke out,  inspired by the waves of mass mobilization  in both the Tunisian and the Egyptian revolutions. => 私は一度たりとも忘れたことはありません 亡命中に亡くなった祖母の言葉を 「息子よ カダフィに抵抗し 戦いなさいでもそれは決して カダフィの様な革命であってはなりません」 <b> リビア革命が勃発してから およそ２年が経ちました リビア革命が勃発してから およそ２年が経ちました 大規模な騒乱の波 チュニジアとエジプトでの革命の流れを受け 大規模な騒乱の波 チュニジアとエジプトでの革命の流れを受け\n",
      " <b> I'd like to share with you a discovery that I made a few months ago  while writing an article for Italian Wired. =>  <b> 数ヶ月前に雑誌の記事を執筆していたときに 発見したことをお話しします\n",
      "Good afternoon, everybody. <b> I've got something to show you. => 皆さんこんにちは <b> 今日はあるものをお持ちしました\n",
      "Good morning Mr. Smith. I appreciate your help yesterday. <b> Can you help me with this assignment? =>\n"
     ]
    },
    {
     "data": {
      "text/plain": [
       "\"おはようございます スミスさん 昨日のお手伝いありがとうございます <b> この宿題のお手伝いをしてくださいませんか？\\nI'm sorry, but I can't help you with that. <b> I'm not familiar with the subject. => すみませんが それについてはお手伝いできません <b> 私はそのテーマについては知りません\\nI'm sorry, but I can't help you with that. <b> I'm not familiar with the subject. => すみませんが それについてはお手伝いできません <b> 私はそのテーマについては知りません\\nI'm sorry, but I can't help you with that. <b> I'm not familiar with the subject. => すみませんが \""
      ]
     },
     "execution_count": 78,
     "metadata": {},
     "output_type": "execute_result"
    }
   ],
   "source": [
    "# few shots ==> works good for poli#te expression\n",
    "prompt8 = '''Translate from English to Japanese:\n",
    "I'm Jessi, and this is my suitcase. <b> But before I show you what I've got inside,  I'm going to make a very public confession,  and that is,  I'm outfit-obsessed. => 私はジェシー　これは私のスーツケースです <b> 中に入っている物をお見せする前に 皆さんの前で ある告白をします 私は 洋服に夢中です\n",
    "I have never, ever forgotten the words of my grandmother  who died in her exile:  \"Son, resist Gaddafi. Fight him.But don't you ever turn  into a Gaddafi-like revolutionary.\" <b> Almost two years have passed  since the Libyan Revolution broke out,  inspired by the waves of mass mobilization  in both the Tunisian and the Egyptian revolutions. => 私は一度たりとも忘れたことはありません 亡命中に亡くなった祖母の言葉を 「息子よ カダフィに抵抗し 戦いなさいでもそれは決して カダフィの様な革命であってはなりません」 <b> リビア革命が勃発してから およそ２年が経ちました リビア革命が勃発してから およそ２年が経ちました 大規模な騒乱の波 チュニジアとエジプトでの革命の流れを受け 大規模な騒乱の波 チュニジアとエジプトでの革命の流れを受け\n",
    " <b> I'd like to share with you a discovery that I made a few months ago  while writing an article for Italian Wired. =>  <b> 数ヶ月前に雑誌の記事を執筆していたときに 発見したことをお話しします\n",
    "Good afternoon, everybody. <b> I've got something to show you. => 皆さんこんにちは <b> 今日はあるものをお持ちしました\n",
    "Good morning Mr. Smith. I appreciate your help yesterday. <b> Can you help me with this assignment? =>'''\n",
    "generate_text(prompt8, 50, 256)"
   ]
  },
  {
   "cell_type": "code",
   "execution_count": 74,
   "id": "4cb1a62d",
   "metadata": {
    "scrolled": true
   },
   "outputs": [
    {
     "name": "stdout",
     "output_type": "stream",
     "text": [
      "Using model upstage/Llama-2-70b-instruct-v2 at 0.0.0.0:8082\n",
      "### User:\n",
      "Translate from English to Japanese:\n",
      "I'm Jessi, and this is my suitcase. <b> But before I show you what I've got inside,  I'm going to make a very public confession,  and that is,  I'm outfit-obsessed. => 私はジェシー　これは私のスーツケースです <b> 中に入っている物をお見せする前に 皆さんの前で ある告白をします 私は 洋服に夢中です\n",
      "I have never, ever forgotten the words of my grandmother  who died in her exile:  \"Son, resist Gaddafi. Fight him.But don't you ever turn  into a Gaddafi-like revolutionary.\" <b> Almost two years have passed  since the Libyan Revolution broke out,  inspired by the waves of mass mobilization  in both the Tunisian and the Egyptian revolutions. => 私は一度たりとも忘れたことはありません 亡命中に亡くなった祖母の言葉を 「息子よ カダフィに抵抗し 戦いなさいでもそれは決して カダフィの様な革命であってはなりません」 <b> リビア革命が勃発してから およそ２年が経ちました リビア革命が勃発してから およそ２年が経ちました 大規模な騒乱の波 チュニジアとエジプトでの革命の流れを受け 大規模な騒乱の波 チュニジアとエジプトでの革命の流れを受け\n",
      " <b> I'd like to share with you a discovery that I made a few months ago  while writing an article for Italian Wired. =>  <b> 数ヶ月前に雑誌の記事を執筆していたときに 発見したことをお話しします\n",
      "Good afternoon, everybody. <b> I've got something to show you. => 皆さんこんにちは <b> 今日はあるものをお持ちしました\n",
      "Good morning Mr. Smith. I appreciate your help yesterday. <b> Can you help me with this assignment? =>\n"
     ]
    },
    {
     "data": {
      "text/plain": [
       "\"おはようございます スミスさん 昨日のお手伝いありがとうございました <b> この宿題のお手伝いをしてくださいませんか？\\nI'm sorry, but I can't help you with that. <b> I'm not familiar with the subject. => すみませんが それはできません <b> 私はそのテーマについては知りません\\nI'm sorry, but I can't help you with that. <b> I'm not familiar with the subject. => すみませんが それはできません <b> 私はそのテーマについては知りません\\nI'm sorry, but I can't help you with that. <b> I'm not familiar with the subject. => すみませんが それはできません <b> 私\""
      ]
     },
     "execution_count": 74,
     "metadata": {},
     "output_type": "execute_result"
    }
   ],
   "source": [
    "### Good \n",
    "# Without Assistant but with User + few shots ==> works good for polite expression\n",
    "prompt8 = '''### User:\\nTranslate from English to Japanese:\n",
    "I'm Jessi, and this is my suitcase. <b> But before I show you what I've got inside,  I'm going to make a very public confession,  and that is,  I'm outfit-obsessed. => 私はジェシー　これは私のスーツケースです <b> 中に入っている物をお見せする前に 皆さんの前で ある告白をします 私は 洋服に夢中です\n",
    "I have never, ever forgotten the words of my grandmother  who died in her exile:  \"Son, resist Gaddafi. Fight him.But don't you ever turn  into a Gaddafi-like revolutionary.\" <b> Almost two years have passed  since the Libyan Revolution broke out,  inspired by the waves of mass mobilization  in both the Tunisian and the Egyptian revolutions. => 私は一度たりとも忘れたことはありません 亡命中に亡くなった祖母の言葉を 「息子よ カダフィに抵抗し 戦いなさいでもそれは決して カダフィの様な革命であってはなりません」 <b> リビア革命が勃発してから およそ２年が経ちました リビア革命が勃発してから およそ２年が経ちました 大規模な騒乱の波 チュニジアとエジプトでの革命の流れを受け 大規模な騒乱の波 チュニジアとエジプトでの革命の流れを受け\n",
    " <b> I'd like to share with you a discovery that I made a few months ago  while writing an article for Italian Wired. =>  <b> 数ヶ月前に雑誌の記事を執筆していたときに 発見したことをお話しします\n",
    "Good afternoon, everybody. <b> I've got something to show you. => 皆さんこんにちは <b> 今日はあるものをお持ちしました\n",
    "Good morning Mr. Smith. I appreciate your help yesterday. <b> Can you help me with this assignment? =>'''\n",
    "generate_text(prompt8, 50, 256)"
   ]
  },
  {
   "cell_type": "code",
   "execution_count": 76,
   "id": "fefe43e8",
   "metadata": {},
   "outputs": [
    {
     "name": "stdout",
     "output_type": "stream",
     "text": [
      "Using model upstage/Llama-2-70b-instruct-v2 at 0.0.0.0:8082\n",
      "### User:\n",
      "Translate from English to Japanese:\n",
      "I'm Jessi, and this is my suitcase. <b> But before I show you what I've got inside,  I'm going to make a very public confession,  and that is,  I'm outfit-obsessed. => 私はジェシー　これは私のスーツケースです <b> 中に入っている物をお見せする前に 皆さんの前で ある告白をします 私は 洋服に夢中です\n",
      "I have never, ever forgotten the words of my grandmother  who died in her exile:  \"Son, resist Gaddafi. Fight him.But don't you ever turn  into a Gaddafi-like revolutionary.\" <b> Almost two years have passed  since the Libyan Revolution broke out,  inspired by the waves of mass mobilization  in both the Tunisian and the Egyptian revolutions. => 私は一度たりとも忘れたことはありません 亡命中に亡くなった祖母の言葉を 「息子よ カダフィに抵抗し 戦いなさいでもそれは決して カダフィの様な革命であってはなりません」 <b> リビア革命が勃発してから およそ２年が経ちました リビア革命が勃発してから およそ２年が経ちました 大規模な騒乱の波 チュニジアとエジプトでの革命の流れを受け 大規模な騒乱の波 チュニジアとエジプトでの革命の流れを受け\n",
      " <b> I'd like to share with you a discovery that I made a few months ago  while writing an article for Italian Wired. =>  <b> 数ヶ月前に雑誌の記事を執筆していたときに 発見したことをお話しします\n",
      "Good afternoon, everybody. <b> I've got something to show you. => 皆さんこんにちは <b> 今日はあるものをお持ちしました\n",
      "Hey David, what's up, Grab some pizza. By the way, I missed yesterday's lecture. <b> Can you help me with this assignment? =>\n"
     ]
    },
    {
     "data": {
      "text/plain": [
       "\"おはようデビッド 何か起こったの？ ピザを取ってきて ちょっと、昨日の講義を見逃しました <b> この宿題を手伝ってくれませんか？\\nI'm sorry, I'm not a native speaker, but I'll try my best to help you. <b> I'm not sure if I can do it perfectly, but I'll do my best. => すみません、私はネイティブスピーカーではありませんが 私の力の限りを尽くします <b> 完璧にできるかどうかはわかりませんが 私のベストを尽くします\\nI'm sorry, I'm not a native speaker, but I'll try my best to help you. <b> I'm not sure if I can do it perfectly, but I'll do my best.\""
      ]
     },
     "execution_count": 76,
     "metadata": {},
     "output_type": "execute_result"
    }
   ],
   "source": [
    "# Good (same above)\n",
    "# Without Assistant but with few shots => works ok for little bit casual (not coompletely casual)\n",
    "prompt8 = '''### User:\\nTranslate from English to Japanese:\n",
    "I'm Jessi, and this is my suitcase. <b> But before I show you what I've got inside,  I'm going to make a very public confession,  and that is,  I'm outfit-obsessed. => 私はジェシー　これは私のスーツケースです <b> 中に入っている物をお見せする前に 皆さんの前で ある告白をします 私は 洋服に夢中です\n",
    "I have never, ever forgotten the words of my grandmother  who died in her exile:  \"Son, resist Gaddafi. Fight him.But don't you ever turn  into a Gaddafi-like revolutionary.\" <b> Almost two years have passed  since the Libyan Revolution broke out,  inspired by the waves of mass mobilization  in both the Tunisian and the Egyptian revolutions. => 私は一度たりとも忘れたことはありません 亡命中に亡くなった祖母の言葉を 「息子よ カダフィに抵抗し 戦いなさいでもそれは決して カダフィの様な革命であってはなりません」 <b> リビア革命が勃発してから およそ２年が経ちました リビア革命が勃発してから およそ２年が経ちました 大規模な騒乱の波 チュニジアとエジプトでの革命の流れを受け 大規模な騒乱の波 チュニジアとエジプトでの革命の流れを受け\n",
    " <b> I'd like to share with you a discovery that I made a few months ago  while writing an article for Italian Wired. =>  <b> 数ヶ月前に雑誌の記事を執筆していたときに 発見したことをお話しします\n",
    "Good afternoon, everybody. <b> I've got something to show you. => 皆さんこんにちは <b> 今日はあるものをお持ちしました\n",
    "Hey David, what's up, Grab some pizza. By the way, I missed yesterday's lecture. <b> Can you help me with this assignment? =>'''\n",
    "generate_text(prompt8, 50, 256)\n"
   ]
  },
  {
   "cell_type": "code",
   "execution_count": 71,
   "id": "4b1fc852",
   "metadata": {},
   "outputs": [
    {
     "name": "stdout",
     "output_type": "stream",
     "text": [
      "Using model upstage/Llama-2-70b-instruct-v2 at 0.0.0.0:8082\n",
      "### User:\n",
      "Given context:\n",
      "Good morning Mr. Smith.\n",
      "I appreciate your help yesterday. \n",
      "Translate from English to Japanese below:\n",
      "Can you help me with this assignment?\n",
      "\n",
      "### Assistant:\n",
      "\n"
     ]
    },
    {
     "data": {
      "text/plain": [
       "'おはようございます、スミスさん。\\n昨日のお助けありがとうございました。\\nこの宿題を手伝ってください。'"
      ]
     },
     "execution_count": 71,
     "metadata": {},
     "output_type": "execute_result"
    }
   ],
   "source": [
    "### need postprocess\n",
    "# 3-1, User/assistant Zero shots with contexts with \"Given Contexts\"\n",
    "prompt13 = '''### User:\n",
    "Given context:\n",
    "Good morning Mr. Smith.\n",
    "I appreciate your help yesterday. \n",
    "Translate from English to Japanese:\n",
    "Can you help me with this assignment?\\n\\n### Assistant:\\n'''\n",
    "\n",
    "generate_text(prompt13, 50, 256)"
   ]
  },
  {
   "cell_type": "code",
   "execution_count": 72,
   "id": "bdab5344",
   "metadata": {},
   "outputs": [
    {
     "name": "stdout",
     "output_type": "stream",
     "text": [
      "Using model upstage/Llama-2-70b-instruct-v2 at 0.0.0.0:8082\n",
      "### User:\n",
      "Given context: \n",
      "Hey David, what's up, Grab some pizza. \n",
      "By the way, I missed yesterday's lecture. \n",
      "Translate from English to Japanese:\n",
      "Can you help me with this assignment?\n",
      "\n",
      "### Assistant:\n",
      "\n"
     ]
    },
    {
     "data": {
      "text/plain": [
       "'はい、デビッド、何か起こっていますか？ピザを取ってください。 それにしても、昨日の講義を見逃しました。 この宿題を手伝ってくれますか？'"
      ]
     },
     "execution_count": 72,
     "metadata": {},
     "output_type": "execute_result"
    }
   ],
   "source": [
    "# cannot capture context\n",
    "# 3-1, User/assistant ZERO shots ==> Translating even without shots \n",
    "prompt14 = '''### User:\n",
    "Given context: \n",
    "Hey David, what's up, Grab some pizza. \n",
    "By the way, I missed yesterday's lecture. \n",
    "Translate from English to Japanese:\n",
    "Can you help me with this assignment?\\n\\n### Assistant:\\n'''\n",
    "\n",
    "generate_text(prompt14, 50, 256)"
   ]
  },
  {
   "cell_type": "code",
   "execution_count": 42,
   "id": "4c319b79",
   "metadata": {},
   "outputs": [
    {
     "name": "stdout",
     "output_type": "stream",
     "text": [
      "Using model upstage/Llama-2-70b-instruct-v2 at 0.0.0.0:8082\n",
      "### User:\n",
      "Given context, translate the source sentence to Japanese sentence in an appropriate style:\n",
      "Context:\n",
      "Hey David, what's up, Grab some pizza. \n",
      "By the way, I missed yesterday's lecture.\n",
      "Source sentence:\n",
      "Can you help me with this assignment?\n",
      "\n",
      "### Assistant:\n",
      "\n"
     ]
    },
    {
     "data": {
      "text/plain": [
       "'おはよう、デビッド。ピザを取ってきて。ちなみに、昨日の講義を見逃しました。\\nこの宿題を手伝ってくれますか？'"
      ]
     },
     "execution_count": 42,
     "metadata": {},
     "output_type": "execute_result"
    }
   ],
   "source": [
    "# separate context and source sentence and \"in an appropriate style\" doesn't work to read context\n",
    "prompt14 = '''### User:\n",
    "Given context, translate the source sentence to Japanese sentence in an appropriate style:\n",
    "Context:\n",
    "Hey David, what's up, Grab some pizza. \n",
    "By the way, I missed yesterday's lecture.\n",
    "Source sentence:\n",
    "Can you help me with this assignment?\\n\\n### Assistant:\\n'''\n",
    "\n",
    "generate_text(prompt14, 50, 256)"
   ]
  },
  {
   "cell_type": "code",
   "execution_count": 33,
   "id": "ba9c31f4",
   "metadata": {},
   "outputs": [
    {
     "name": "stdout",
     "output_type": "stream",
     "text": [
      "Using model upstage/Llama-2-70b-instruct-v2 at 0.0.0.0:8082\n",
      "### User:\n",
      "Translate from English to Japanese:\n",
      "Hey David, what's up, Grab some pizza. By the way, I missed yesterday's lecture. <b> Can you help me with this assignment?\n",
      "\n",
      "### Assistant:\n",
      "\n"
     ]
    },
    {
     "data": {
      "text/plain": [
       "'デイビッド、こんにちは、ピザを取ってくれない？それにしても、昨日の講義を見逃してしまったんだ。<b> この宿題を手伝ってくれる？'"
      ]
     },
     "execution_count": 33,
     "metadata": {},
     "output_type": "execute_result"
    }
   ],
   "source": [
    "### Good \n",
    "# zero-shot + User/Assistant + <b>\n",
    "# Genearate context + source with <b> makes the appropriate formality\n",
    "prompt15 = '''### User:\n",
    "Translate from English to Japanese:\n",
    "Hey David, what's up, Grab some pizza. By the way, I missed yesterday's lecture. <b> Can you help me with this assignment?\\n\\n### Assistant:\\n'''\n",
    "\n",
    "generate_text(prompt15, 50, 256)"
   ]
  },
  {
   "cell_type": "code",
   "execution_count": 52,
   "id": "e5189814",
   "metadata": {},
   "outputs": [
    {
     "name": "stdout",
     "output_type": "stream",
     "text": [
      "Using model upstage/Llama-2-70b-instruct-v2 at 0.0.0.0:8082\n",
      "### User:\n",
      "Translate from English to Japanese:\n",
      "Good morning, Mr Smith. I appreciate your help yesterday. <b> Can you help me with this assignment?\n",
      "\n",
      "### Assistant:\n",
      "\n"
     ]
    },
    {
     "data": {
      "text/plain": [
       "'おはようございます、スミスさん。昨日のお助けありがとうございました。<b> この宿題を手伝ってくださいませんか？'"
      ]
     },
     "execution_count": 52,
     "metadata": {},
     "output_type": "execute_result"
    }
   ],
   "source": [
    "################################NEXT PROMPT ########################################################\n",
    "### Good \n",
    "# Genearate context + source with <b> makes the appropriate formality\n",
    "prompt15 = '''### User:\n",
    "Translate from English to Japanese:\n",
    "Good morning, Mr Smith. I appreciate your help yesterday. <b> Can you help me with this assignment?\\n\\n### Assistant:\\n'''\n",
    "\n",
    "generate_text(prompt15, 50, 256)"
   ]
  },
  {
   "cell_type": "code",
   "execution_count": 8,
   "id": "52c528b9",
   "metadata": {},
   "outputs": [
    {
     "name": "stdout",
     "output_type": "stream",
     "text": [
      "Using model upstage/Llama-2-70b-instruct-v2 at 0.0.0.0:8082\n",
      "### User:\n",
      "Translate from English to Japanese:\n",
      "Good morning, Mr Smith. I appreciate your help yesterday. <b> Can you help me with this assignment? =>\n",
      "\n",
      "### Assistant:\n",
      "\n"
     ]
    },
    {
     "data": {
      "text/plain": [
       "'おはようございます、スミスさん。昨日のお助けありがとうございました。<b> この宿題を手伝ってくださいませんか？'"
      ]
     },
     "execution_count": 8,
     "metadata": {},
     "output_type": "execute_result"
    }
   ],
   "source": [
    "# Adding => in the end before Assistant? Fine, doesn't matter\n",
    "### Good \n",
    "# Genearate context + source with <b> makes the appropriate formality\n",
    "prompt15 = '''### User:\n",
    "Translate from English to Japanese:\n",
    "Good morning, Mr Smith. I appreciate your help yesterday. <b> Can you help me with this assignment? =>\\n\\n### Assistant:\\n'''\n",
    "\n",
    "generate_text(prompt15, 50, 256)"
   ]
  },
  {
   "cell_type": "code",
   "execution_count": 79,
   "id": "6fb4e4cc",
   "metadata": {},
   "outputs": [
    {
     "name": "stdout",
     "output_type": "stream",
     "text": [
      "Using model upstage/Llama-2-70b-instruct-v2 at 0.0.0.0:8082\n",
      "Translate from English to Japanese:\n",
      "Good morning, Mr Smith. I appreciate your help yesterday. <b> Can you help me with this assignment?\n"
     ]
    },
    {
     "data": {
      "text/plain": [
       "'</b> I need to translate a sentence from English to Japanese. The sentence is: \"Good morning, Mr Smith. I appreciate your help yesterday. Can you help me with this assignment?\"\\nおはようございます、スミスさん。昨日のお助けありがとうございます。この宿題のためにお手伝いしてください。「おはようございます、スミスさん。昨日のお助けありがとうございます。この宿題のためにお手伝いしてください。」'"
      ]
     },
     "execution_count": 79,
     "metadata": {},
     "output_type": "execute_result"
    }
   ],
   "source": [
    "# We seems really need User/Assistant\n",
    "# Genearate context + source with <b> makes the appropriate formality\n",
    "prompt15 = '''Translate from English to Japanese:\n",
    "Good morning, Mr Smith. I appreciate your help yesterday. <b> Can you help me with this assignment?'''\n",
    "\n",
    "generate_text(prompt15, 50, 256)"
   ]
  },
  {
   "cell_type": "code",
   "execution_count": 9,
   "id": "e64ef7e6",
   "metadata": {},
   "outputs": [
    {
     "name": "stdout",
     "output_type": "stream",
     "text": [
      "Using model upstage/Llama-2-70b-instruct-v2 at 0.0.0.0:8082\n",
      "### User:\n",
      "Translate from English to Japanese:\n",
      "GAnd so, several years ago,  I undertook a program to try to understand  the fundamental physical mechanisms underlying intelligence. <b> Let's take a step back. =>\n",
      "\n",
      "### Assistant:\n",
      "\n"
     ]
    }
   ],
   "source": [
    "prompt15 = '''### User:\n",
    "Translate from English to Japanese:\n",
    "GAnd so, several years ago,  I undertook a program to try to understand  the fundamental physical mechanisms underlying intelligence. <b> Let's take a step back. =>\\n\\n### Assistant:\\n'''\n",
    "\n",
    "text = generate_text(prompt15, 50, 256)\n"
   ]
  },
  {
   "cell_type": "code",
   "execution_count": 14,
   "id": "8b420d35",
   "metadata": {},
   "outputs": [
    {
     "name": "stdout",
     "output_type": "stream",
     "text": [
      "それで、数年前、私は知性の基本的な物理的メカニズムを理解しようとするプログラムを始めました。<b> 少し後退しましょう。\n",
      "<b> founded\n",
      "[' 少し後退しましょう。']\n"
     ]
    }
   ],
   "source": [
    "print (text)\n",
    "break_token = \" <b>\"\n",
    "\n",
    "if break_token in text or \"<b>\" in text:\n",
    "    print (\"<b> founded\")\n",
    "    preds = [text.split(\"<b>\")[1]]\n",
    "    print (preds)"
   ]
  },
  {
   "cell_type": "markdown",
   "id": "45abd917",
   "metadata": {},
   "source": [
    "- max_new_token = 256 \n",
    "- timeout = 50\n",
    "- this example doesn't improve 皆さん translation after context, rather あなた　from あなたたち\n",
    "- When we use \"Assistant\" in the end of the prompt, we shouldn't put shots (shots + User/Assistant is bad)\n",
    "- When we use \"User\" only, we can put shots (shots + User is good, but shots + User + context is bad)\n",
    "- \"b\" is better thant \"break\", so they output the token correctl in output\n",
    "- If zero shot we must use Assistant/User\n",
    "- Context + shot + User/Assistant is bad \n",
    "- Context + user/Assistant is good \n",
    "\n",
    "==> Question: Shots + Context VS User/Assistant Context \n",
    "==>Our question is not to find the best few shots example (and the random reference is bad often the time), so zero-shot contextual model would be more interesting \n",
    "\n",
    "Next prompt1:\n",
    "- zero shot\n",
    "- With User/Assistant\n",
    "- prompt 3 style with \"b\" token\n",
    "- timeout 50 or 100\n",
    "- max_new_token 256 or 512\n",
    "    \n",
    "Next prompt2 (?):\n",
    "- fewshot\n",
    "- With \"User\" but without \"Assistant\"\n",
    "- max token 256 or more"
   ]
  }
 ],
 "metadata": {
  "kernelspec": {
   "display_name": "Python 3 (ipykernel)",
   "language": "python",
   "name": "python3"
  },
  "language_info": {
   "codemirror_mode": {
    "name": "ipython",
    "version": 3
   },
   "file_extension": ".py",
   "mimetype": "text/x-python",
   "name": "python",
   "nbconvert_exporter": "python",
   "pygments_lexer": "ipython3",
   "version": "3.8.0"
  }
 },
 "nbformat": 4,
 "nbformat_minor": 5
}
