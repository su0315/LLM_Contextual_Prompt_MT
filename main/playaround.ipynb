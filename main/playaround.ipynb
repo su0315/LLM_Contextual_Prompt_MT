{
 "cells": [
  {
   "cell_type": "code",
   "execution_count": 4,
   "metadata": {},
   "outputs": [
    {
     "name": "stdout",
     "output_type": "stream",
     "text": [
      "range(1, 6)\n",
      "1\n",
      "2\n",
      "3\n",
      "4\n",
      "5\n"
     ]
    }
   ],
   "source": [
    "a = range(1,5+1)\n",
    "print (a)\n",
    "\n",
    "for i in a:\n",
    "    print(i)"
   ]
  },
  {
   "cell_type": "code",
   "execution_count": 1,
   "metadata": {},
   "outputs": [
    {
     "ename": "ModuleNotFoundError",
     "evalue": "No module named 'extractive'",
     "output_type": "error",
     "traceback": [
      "\u001b[0;31m---------------------------------------------------------------------------\u001b[0m",
      "\u001b[0;31mModuleNotFoundError\u001b[0m                       Traceback (most recent call last)",
      "\u001b[1;32m/home/sumire/thesis/LLM_Contextual_Prompt_MT/main/playaround.ipynb Cell 2\u001b[0m line \u001b[0;36m1\n\u001b[0;32m----> <a href='vscode-notebook-cell://ssh-remote%2Bposeidon/home/sumire/thesis/LLM_Contextual_Prompt_MT/main/playaround.ipynb#W1sdnNjb2RlLXJlbW90ZQ%3D%3D?line=0'>1</a>\u001b[0m \u001b[39mfrom\u001b[39;00m \u001b[39mextractive\u001b[39;00m \u001b[39mimport\u001b[39;00m ExtractiveSummarizer\n\u001b[1;32m      <a href='vscode-notebook-cell://ssh-remote%2Bposeidon/home/sumire/thesis/LLM_Contextual_Prompt_MT/main/playaround.ipynb#W1sdnNjb2RlLXJlbW90ZQ%3D%3D?line=1'>2</a>\u001b[0m \u001b[39mimport\u001b[39;00m \u001b[39mtorch\u001b[39;00m\n\u001b[1;32m      <a href='vscode-notebook-cell://ssh-remote%2Bposeidon/home/sumire/thesis/LLM_Contextual_Prompt_MT/main/playaround.ipynb#W1sdnNjb2RlLXJlbW90ZQ%3D%3D?line=3'>4</a>\u001b[0m \u001b[39m#device = torch.device('cuda' if torch.cuda.is_available() else 'cpu')\u001b[39;00m\n",
      "\u001b[0;31mModuleNotFoundError\u001b[0m: No module named 'extractive'"
     ]
    }
   ],
   "source": [
    "from extractive import ExtractiveSummarizer\n",
    "import torch\n",
    "\n",
    "#device = torch.device('cuda' if torch.cuda.is_available() else 'cpu')\n",
    "\n",
    "model_checkpoint= \"/mnt/data-poseidon/sumire/repos/transformersum/ckpt/epoch=3.ckpt\"\n",
    "model = ExtractiveSummarizer.load_from_checkpoint(model_checkpoint)\n",
    "\n",
    "#model.to(device)  \n",
    "text_to_summarize = \"And keep it clean!Mr. Chandler!My friends, you are all familiar with Beaugard.This is perhaps his masterpiece.\"\n",
    "input_sentences = [\"And keep it clean!\", \"Mr. Chandler!\", \"My friends, you are all familiar with Beaugard.\", \"This is perhaps his masterpiece.\"]\n",
    "summary = model.predict_sentences(input_sentences, raw_scores=False, num_summary_sentences=1)\n",
    "print (summary)"
   ]
  }
 ],
 "metadata": {
  "kernelspec": {
   "display_name": "Python 3",
   "language": "python",
   "name": "python3"
  },
  "language_info": {
   "codemirror_mode": {
    "name": "ipython",
    "version": 3
   },
   "file_extension": ".py",
   "mimetype": "text/x-python",
   "name": "python",
   "nbconvert_exporter": "python",
   "pygments_lexer": "ipython3",
   "version": "3.8.10"
  }
 },
 "nbformat": 4,
 "nbformat_minor": 2
}
